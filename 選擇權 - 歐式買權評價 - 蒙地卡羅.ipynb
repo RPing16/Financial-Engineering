{
 "cells": [
  {
   "cell_type": "markdown",
   "metadata": {},
   "source": [
    "# 歐式買權評價 - 蒙地卡羅模擬 \n",
    "   - 第一部份  透過蒙地卡羅模擬近似歐式買權價格\n",
    "   - 第二部分  以Black - Scholes 模型驗證蒙地卡羅模擬的結果"
   ]
  },
  {
   "cell_type": "markdown",
   "metadata": {},
   "source": [
    "# 第一部份  透過蒙地卡羅模擬近似歐式買權價格\n",
    "- 根據Black-Scholes Model，假設股價的隨機過程為幾何布朗運動，則股價報酬率服從對數常態分配。\n",
    "\n",
    "- 由均勻(0,1)分配中抽取n筆資料並標準化，根據中央極限定理(CLT)，標準化後會漸近標準常態分配，故可得到一個近似標準常態分配的亂數。\n",
    "\t再重複進行 I 次，便可得到 I 個猶如從標準常態分配抽出的樣本(亂數)\n",
    "\n",
    "- 將服從標準常態分配的 I 筆樣本，代入Black-Scholes model 假設下的到期日股價公式，再減去履約價(K)，\n",
    "\t便可得到 I 個選擇權到期日收益(ST - K)\n",
    "\n",
    "- 將 I 筆到期日收益加總並取平均，可計算出到期日選擇權平均收益( (ST - K) / I )，實際上可視為樣本平均。\n",
    "\t依據弱大數法則(WLLN)，當樣本數 I 趨近無限大時，樣本平均會收斂至母體平均，\n",
    "\t因此，當 I 夠大時，樣本平均「到期日選擇權平均收益( (ST - K) / I )」會近似母體平均「到期日選擇權期望收益」\n",
    "\n",
    "- 將「到期日選擇權平均收益」折現後，就會得到以蒙地卡羅模擬近似出來的歐式買權價格。"
   ]
  },
  {
   "cell_type": "markdown",
   "metadata": {},
   "source": [
    "## Step 1 導入所需套件"
   ]
  },
  {
   "cell_type": "code",
   "execution_count": 1,
   "metadata": {},
   "outputs": [],
   "source": [
    "import math\n",
    "import random\n",
    "import numpy as np\n",
    "from scipy.stats import norm  # 導入標準常態累積分配之套件"
   ]
  },
  {
   "cell_type": "markdown",
   "metadata": {},
   "source": [
    "## Step 2  設定參數"
   ]
  },
  {
   "cell_type": "code",
   "execution_count": 2,
   "metadata": {},
   "outputs": [],
   "source": [
    "S0 = 100      # 標的資產現在的價格\n",
    "K = 105       # 履約價\n",
    "T = 1         # 到期日(單位:年)\n",
    "r = 0.05      # 無風險利率\n",
    "sigma = 0.2   # 年化波動度\n",
    "\n",
    "n = 100       # 樣本數 (在均勻分配之抽樣數)\n",
    "I = 100000    # 模擬次數 (在標準常態分配之抽樣數)"
   ]
  },
  {
   "cell_type": "markdown",
   "metadata": {},
   "source": [
    "## Step 3 定義函數"
   ]
  },
  {
   "cell_type": "markdown",
   "metadata": {},
   "source": [
    "### (1) 標準常態分配"
   ]
  },
  {
   "cell_type": "code",
   "execution_count": 3,
   "metadata": {},
   "outputs": [],
   "source": [
    "def normal_z(n) :   \n",
    "    x_sum = 0 \n",
    "    for i in range(n) :\n",
    "        x_sum = x_sum + random.random()   # 從均勻分配中隨機抽取n個樣本，並計算樣本和\n",
    "    x_bar = x_sum / n   # 樣本平均數\n",
    "    var = 1/12   # 均勻分配母體變異數\n",
    "    u = 0.5   # 均勻分配母體期望值\n",
    "    z = (x_bar - u) / math.sqrt(var/n)   #標準化\n",
    "    return z"
   ]
  },
  {
   "cell_type": "markdown",
   "metadata": {},
   "source": [
    "### (2) 股票到期日價格"
   ]
  },
  {
   "cell_type": "code",
   "execution_count": 4,
   "metadata": {},
   "outputs": [],
   "source": [
    "def price() :\n",
    "    z = normal_z(n)\n",
    "    ST = S0*math.exp((r-sigma**2/2)*T+sigma*math.sqrt(T)*z)   # 假設股票價格的隨機過程為幾何布朗運動可推得此結果\n",
    "    return ST"
   ]
  },
  {
   "cell_type": "markdown",
   "metadata": {},
   "source": [
    "### (3) 取最大值"
   ]
  },
  {
   "cell_type": "code",
   "execution_count": 5,
   "metadata": {},
   "outputs": [],
   "source": [
    "def max_self(a,b) :\n",
    "    if a >= b :\n",
    "        return a\n",
    "    else :\n",
    "        return b"
   ]
  },
  {
   "cell_type": "markdown",
   "metadata": {},
   "source": [
    "### (4) 歐式買權價格"
   ]
  },
  {
   "cell_type": "code",
   "execution_count": 6,
   "metadata": {},
   "outputs": [],
   "source": [
    "def call(I) :   \n",
    "    profit_list = []\n",
    "    for i in range(I) :\n",
    "        profit_temp = price()   # 用profit_temp暫存計算出的I個ST\n",
    "        profit = max_self(profit_temp - K,0)   # 利用取最大值函數計算選擇權利潤 (利潤最小 = 0)\n",
    "        profit_list.append(profit)   # 將所有計算出來的利潤新增到profit_list中\n",
    "    C0 = (sum(profit_list) / I) * math.exp(-r*T)   # 計算利潤之平均數後再折現\n",
    "    C0_2 = round(C0,2)   # 四捨五入至小數點第二位\n",
    "    return C0_2"
   ]
  },
  {
   "cell_type": "markdown",
   "metadata": {},
   "source": [
    "## Step 4 輸出結果"
   ]
  },
  {
   "cell_type": "code",
   "execution_count": 7,
   "metadata": {},
   "outputs": [],
   "source": [
    "C0_M = call(I)  # 以蒙地卡羅計算之歐式買權價格"
   ]
  },
  {
   "cell_type": "markdown",
   "metadata": {},
   "source": [
    "# 第二部份 以Black - Scholes 模型驗證蒙地卡羅模擬的結果"
   ]
  },
  {
   "cell_type": "markdown",
   "metadata": {},
   "source": [
    "## Step 1 透過Black-Scholes Model計算歐式買權價格"
   ]
  },
  {
   "cell_type": "code",
   "execution_count": 8,
   "metadata": {},
   "outputs": [],
   "source": [
    "#   設定參數   #\n",
    "\n",
    "d1 = (np.log(S0/K) + (r+sigma**2/2)*T )/sigma*np.sqrt(T)\n",
    "d2 = d1 - sigma*np.sqrt(T)      \n",
    "\n",
    "N_d1 = norm.cdf(d1)  # 標準常態分配之累積機率\n",
    "N_d2 = norm.cdf(d2)\n",
    "\n",
    "#   Black-Scholes Model   #  \n",
    "\n",
    "C0_B = S0*N_d1 - K*np.exp(-r*T)*N_d2  # 以BS Model 計算之歐式買權價格\n",
    "C0_B2 = round(C0_B,2)   # 四捨五入至小數點第二位"
   ]
  },
  {
   "cell_type": "markdown",
   "metadata": {},
   "source": [
    "## Step 2 計算兩種算法的差異"
   ]
  },
  {
   "cell_type": "code",
   "execution_count": 9,
   "metadata": {},
   "outputs": [],
   "source": [
    "#   兩種計算方式之差異   #\n",
    "\n",
    "diff = abs( round(C0_B2 - C0_M , 2) )"
   ]
  },
  {
   "cell_type": "markdown",
   "metadata": {},
   "source": [
    "## Step 3 輸出最終結果"
   ]
  },
  {
   "cell_type": "code",
   "execution_count": 10,
   "metadata": {},
   "outputs": [
    {
     "name": "stdout",
     "output_type": "stream",
     "text": [
      "歐式買權價格(蒙地卡羅) :  8.08\n",
      "歐式買權價格(BS模型) :  8.02\n",
      "兩種計算方式之差異 : 0.06\n"
     ]
    }
   ],
   "source": [
    "print(\"歐式買權價格(蒙地卡羅) : \", C0_M )\n",
    "print(\"歐式買權價格(BS模型) : \" , C0_B2 )\n",
    "print(\"兩種計算方式之差異 :\" , diff )"
   ]
  }
 ],
 "metadata": {
  "kernelspec": {
   "display_name": "Python 3 (ipykernel)",
   "language": "python",
   "name": "python3"
  },
  "language_info": {
   "codemirror_mode": {
    "name": "ipython",
    "version": 3
   },
   "file_extension": ".py",
   "mimetype": "text/x-python",
   "name": "python",
   "nbconvert_exporter": "python",
   "pygments_lexer": "ipython3",
   "version": "3.10.11"
  }
 },
 "nbformat": 4,
 "nbformat_minor": 4
}
