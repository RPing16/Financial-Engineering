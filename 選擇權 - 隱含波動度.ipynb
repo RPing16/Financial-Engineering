{
 "cells": [
  {
   "cell_type": "markdown",
   "metadata": {},
   "source": [
    "# 要求"
   ]
  },
  {
   "cell_type": "markdown",
   "metadata": {},
   "source": [
    "- 輸入(已知外生變數) :\n",
    "    - (1) 買權還是賣權 - 變數符號 : call_put\n",
    "    - (2) 選擇權目前市價 - 變數符號 : option_market_price\n",
    "    - (3) 標的資產目前市價 - 變數符號 : s\n",
    "    - (4) 選擇權履約價 - 變數符號 : k\n",
    "    - (5) 選擇權到期日 - 變數符號 : t (單位 : 年)\n",
    "    - (6) 無風險利率 - 變數符號 : r\n",
    "    - (7) 搜尋的波動度上界 - 變數符號 : volatility_upperbond\n",
    "    - (8) 容許誤差大小 - 變數符號 : error\n",
    "- 輸出 : 隱含波動度  "
   ]
  },
  {
   "cell_type": "markdown",
   "metadata": {},
   "source": [
    "# 作法概念"
   ]
  },
  {
   "cell_type": "markdown",
   "metadata": {},
   "source": [
    "- 由於Black-Scholes(BS) Model反函數不存在，無法直接透過反函數求得隱含波動度\n",
    "- 因此改用 : 找一個波動度，使其計算出來的選擇權理論價值和選擇權市價相同，則該波動度即為隱含波動度\n",
    "- 上述方法有個問題 : 波動度為大於0的任意實數，可能數值有無限多個，未必能找到對應的\n",
    "- 故給定一個誤差範圍，只要一個波動度對應的誤差落在範圍內就停止繼續搜尋，並回傳該波動度\n",
    "- 由於可能波動度的有無限個，故無法只用迴圈(for，while)來搜尋\n",
    "- 故改用「二分法」進行搜尋 ( 要驗證是否滿足使用條件 )"
   ]
  },
  {
   "cell_type": "markdown",
   "metadata": {},
   "source": [
    "# 導入套件"
   ]
  },
  {
   "cell_type": "code",
   "execution_count": 1,
   "metadata": {},
   "outputs": [],
   "source": [
    "import warnings\n",
    "warnings.filterwarnings('ignore')\n",
    "import numpy as np\n",
    "import pandas as pd\n",
    "import random\n",
    "from scipy.stats import norm"
   ]
  },
  {
   "cell_type": "markdown",
   "metadata": {},
   "source": [
    "# Step 1  定義「買權和賣權」函數 \n",
    "- 事先給定的波動度 : volatility "
   ]
  },
  {
   "cell_type": "code",
   "execution_count": 2,
   "metadata": {},
   "outputs": [],
   "source": [
    "def calculator_call(s, k, r, t, volatility) :\n",
    "    d1 = ( np.log(s/k) + (r + (volatility**2/2) )*t ) / (volatility*np.sqrt(t) )\n",
    "    d2 = d1 - volatility*np.sqrt(t)\n",
    "    N_d1 = norm.cdf(d1)\n",
    "    N_d2 = norm.cdf(d2)\n",
    "    call_model_price = s*N_d1 - k*np.exp(-r*t)*N_d2\n",
    "    return call_model_price\n",
    "\n",
    "def calculator_put(s, k, r, t, volatility) :\n",
    "    d1 = ( np.log(s/k) + (r + (volatility**2/2) )*t ) / (volatility*np.sqrt(t) )\n",
    "    d2 = d1 - volatility*np.sqrt(t)\n",
    "    N_d1 = norm.cdf(d1)\n",
    "    N_d2 = norm.cdf(d2)\n",
    "    put_model_price = k*np.exp(-r*t)*( 1 - N_d2 ) - s*( 1 - N_d1 )\n",
    "    return put_model_price"
   ]
  },
  {
   "cell_type": "markdown",
   "metadata": {},
   "source": [
    "# Step 2 定義「二分法」函數"
   ]
  },
  {
   "cell_type": "code",
   "execution_count": 3,
   "metadata": {},
   "outputs": [],
   "source": [
    "def bianry_search(call_put, option_market_price, s, k, t, r, volatility_upperbond, error) :\n",
    "        \n",
    "    #  選擇權類型函數  #\n",
    "    \n",
    "    option_calcualte_funcs = { 'call':calculator_call,     # 用途見「設定二分法參數初始值」這個區塊\n",
    "                               'put':calculator_put\n",
    "                             }\n",
    "    #  設定二分法參數初始值  #\n",
    "    \n",
    "    volatility_lowerbond = 0   # volatility的數值是由0~volatility_upperbond，是天生就已經進行排序的，其數值大小等同排序後的大小\n",
    "                               # 因此，可以不用透過index去搜尋，volatility本身的大小即反映其index的大小\n",
    "        \n",
    "    volatility_upperbond = volatility_upperbond   \n",
    "    mid_volatility = ( volatility_lowerbond + volatility_upperbond ) / 2\n",
    "    mid_option_value = option_calcualte_funcs[call_put](s, k, r, t, mid_volatility)\n",
    "                        # 若使用者輸入「call」，則 option_calcualte_funcs[call_put] = calculator_call\n",
    "                        # 若使用者輸入「put」，則 option_calcualte_funcs[call_put] = calculator_put\n",
    "                        # 這樣寫較簡潔，否則要用「if和else」分別計算輸入call和put之情況\n",
    "                \n",
    "    current_error = abs( ( mid_option_value - option_market_price ) / option_market_price ) \n",
    "                        # 將誤差轉為比率可不受資料數值規模影響\n",
    "                                                                      \n",
    "    number_of_searches = 0   # 用於計算搜尋次數 ( 後面可用於查看搜尋過程與保護機制 )\n",
    "    \n",
    "    #  開始迴圈  #\n",
    "    \n",
    "    while not ( current_error <= error) :   # 只要目前誤差大於可容許誤差，便執行以下迴圈\n",
    "        \n",
    "        number_of_searches += 1   # 每次進入迴圈便+1\n",
    "            \n",
    "        ##  用於查看搜尋過程  ##\n",
    "            \n",
    "        print(f'第{number_of_searches:,}次搜尋', end = '  ')\n",
    "        print(f'option market price = { round(option_market_price,3)}', end = '  ')   # 只呈現到小數點下第3位\n",
    "        print(f'mid option value = { round(mid_option_value,3) }', end = '  ')\n",
    "        print(f'volatility lower bond  = { round(volatility_lowerbond,3) }', end = '  ')\n",
    "        print(f'volatility upper bond  = { round(volatility_upperbond,3) }')\n",
    "            \n",
    "            \n",
    "        if option_market_price < mid_option_value :       # 若市價<中間價\n",
    "            volatility_upperbond = mid_volatility         # 則將中間價對應之中間波動度改為波動度上界\n",
    "        else : \n",
    "            volatility_lowerbond = mid_volatility         # 反之，若市價>中間價，則將中間價對應之中間波動度改為波動度下界\n",
    "        \n",
    "        mid_volatility = ( volatility_lowerbond + volatility_upperbond ) / 2  \n",
    "        mid_option_value = option_calcualte_funcs[call_put](s, k, r, t, mid_volatility)           \n",
    "        current_error = abs( ( mid_option_value - option_market_price ) / option_market_price )\n",
    "                        # 這三行程式碼無論輸入call或put都會執行，故將其方在判斷式(if,else)外，while迴圈內\n",
    "            \n",
    "         ## 保護機制  ##   \n",
    "            \n",
    "        if number_of_searches > 1000000 :     # 若搜尋次數大於1,000,000\n",
    "            print('無法搜尋到隱含波動度')       # 則告訴我找不到\n",
    "            mid_volatility = -1               # 並隨意給 mid_volatility一個數值避免 return報錯\n",
    "            break                             # 最後終止迴圈\n",
    "            \n",
    "    #  迴圈結果  #        \n",
    "                        \n",
    "    implied_volatility = mid_volatility    # 不論是輸入call或put，\n",
    "                                           # 當迴圈順利結束時，implied_volatility 皆等於 mid_volatility\n",
    "\n",
    "    return implied_volatility "
   ]
  },
  {
   "cell_type": "markdown",
   "metadata": {},
   "source": [
    "# Step 3 使用者輸入參數"
   ]
  },
  {
   "cell_type": "code",
   "execution_count": 4,
   "metadata": {},
   "outputs": [
    {
     "name": "stdout",
     "output_type": "stream",
     "text": [
      "請輸入要計算「call」還是「put」: call\n",
      "選擇權目前市價 = 10\n",
      "選擇權之標的資產目前市價 = 100\n",
      "選擇權之履約價 = 150\n",
      "選擇權之到期日(單位:年) = 0.25\n",
      "目前無風險利率 = 0.05\n",
      "搜尋的波動度上界 = 10\n",
      "容許誤差大小 = 0.000001\n"
     ]
    }
   ],
   "source": [
    "call_put = input('請輸入要計算「call」還是「put」: ')    # 透過input所輸入的東西，資料型態皆為str，故需依參數資料型態的不同進行轉換\n",
    "option_market_price = float( input('選擇權目前市價 = ') )         # 選擇權市價 : float\n",
    "s = float( input('選擇權之標的資產目前市價 = ') )                  # 標的資產市價 : float\n",
    "k = float( ( input('選擇權之履約價 = ') ) )                       # 履約價 : float\n",
    "t = float( input('選擇權之到期日(單位:年) = ') )                   # 到期日 : float\n",
    "r = float( input('目前無風險利率 = ') )                           # 無風險利率 : float\n",
    "volatility_upperbond = float( input('搜尋的波動度上界 = ') )      # 波動度上界 : float\n",
    "error = float( input('容許誤差大小 = ') )                         # 容許誤差大小 : float"
   ]
  },
  {
   "cell_type": "markdown",
   "metadata": {},
   "source": [
    "# Step 4 輸出結果"
   ]
  },
  {
   "cell_type": "code",
   "execution_count": 5,
   "metadata": {},
   "outputs": [
    {
     "name": "stdout",
     "output_type": "stream",
     "text": [
      "第1次搜尋  option market price = 10.0  mid option value = 74.472  volatility lower bond  = 0  volatility upper bond  = 10.0\n",
      "第2次搜尋  option market price = 10.0  mid option value = 36.454  volatility lower bond  = 0  volatility upper bond  = 5.0\n",
      "第3次搜尋  option market price = 10.0  mid option value = 11.92  volatility lower bond  = 0  volatility upper bond  = 2.5\n",
      "第4次搜尋  option market price = 10.0  mid option value = 1.878  volatility lower bond  = 0  volatility upper bond  = 1.25\n",
      "第5次搜尋  option market price = 10.0  mid option value = 6.302  volatility lower bond  = 0.625  volatility upper bond  = 1.25\n",
      "第6次搜尋  option market price = 10.0  mid option value = 9.021  volatility lower bond  = 0.938  volatility upper bond  = 1.25\n",
      "第7次搜尋  option market price = 10.0  mid option value = 10.453  volatility lower bond  = 1.094  volatility upper bond  = 1.25\n",
      "第8次搜尋  option market price = 10.0  mid option value = 9.732  volatility lower bond  = 1.094  volatility upper bond  = 1.172\n",
      "第9次搜尋  option market price = 10.0  mid option value = 10.091  volatility lower bond  = 1.133  volatility upper bond  = 1.172\n",
      "第10次搜尋  option market price = 10.0  mid option value = 9.911  volatility lower bond  = 1.133  volatility upper bond  = 1.152\n",
      "第11次搜尋  option market price = 10.0  mid option value = 10.001  volatility lower bond  = 1.143  volatility upper bond  = 1.152\n",
      "第12次搜尋  option market price = 10.0  mid option value = 9.956  volatility lower bond  = 1.143  volatility upper bond  = 1.147\n",
      "第13次搜尋  option market price = 10.0  mid option value = 9.979  volatility lower bond  = 1.145  volatility upper bond  = 1.147\n",
      "第14次搜尋  option market price = 10.0  mid option value = 9.99  volatility lower bond  = 1.146  volatility upper bond  = 1.147\n",
      "第15次搜尋  option market price = 10.0  mid option value = 9.996  volatility lower bond  = 1.147  volatility upper bond  = 1.147\n",
      "第16次搜尋  option market price = 10.0  mid option value = 9.998  volatility lower bond  = 1.147  volatility upper bond  = 1.147\n",
      "第17次搜尋  option market price = 10.0  mid option value = 10.0  volatility lower bond  = 1.147  volatility upper bond  = 1.147\n",
      "第18次搜尋  option market price = 10.0  mid option value = 10.001  volatility lower bond  = 1.147  volatility upper bond  = 1.147\n",
      "第19次搜尋  option market price = 10.0  mid option value = 10.0  volatility lower bond  = 1.147  volatility upper bond  = 1.147\n",
      "第20次搜尋  option market price = 10.0  mid option value = 10.0  volatility lower bond  = 1.147  volatility upper bond  = 1.147\n",
      "第21次搜尋  option market price = 10.0  mid option value = 10.0  volatility lower bond  = 1.147  volatility upper bond  = 1.147\n",
      "第22次搜尋  option market price = 10.0  mid option value = 10.0  volatility lower bond  = 1.147  volatility upper bond  = 1.147\n",
      "\n",
      "\n",
      "implied volatility = 1.147395372390747\n"
     ]
    }
   ],
   "source": [
    "ans = bianry_search(call_put, option_market_price, s, k, t, r, volatility_upperbond, error)\n",
    "print('\\n')\n",
    "print('implied volatility =',ans)"
   ]
  },
  {
   "cell_type": "markdown",
   "metadata": {},
   "source": [
    "# Step 5 驗證是否滿足使用二分法之前提條件\n",
    "- 畫圖驗證「波動度」和「選擇權價值」之關係是否滿足「單調函數」之條件"
   ]
  },
  {
   "cell_type": "code",
   "execution_count": 6,
   "metadata": {},
   "outputs": [],
   "source": [
    "call_price_list = []    # 用於盛裝後面計算出來的一系列的 call, put, volatility\n",
    "put_price_list = []\n",
    "volatility_list = []\n",
    "\n",
    "for i in np.arange(0,volatility_upperbond,0.001) :                       # volatility由 0 ~ 上界\n",
    "    c = calculator_call(s=100, k=105, r=0.05, t=0.25, volatility=i)      # 間隔為0.001\n",
    "    p = calculator_put(s=100, k=105, r=0.05, t=0.25, volatility=i)       # 一一代入公式計算出call和put之價格\n",
    "    call_price_list.append(c)\n",
    "    put_price_list.append(p)\n",
    "    volatility_list.append(i)\n",
    "\n",
    "data = pd.DataFrame( { 'Call Price' : call_price_list ,\n",
    "                       'Put Price' : put_price_list ,\n",
    "                       'Volatility' : volatility_list\n",
    "                     }\n",
    "                    )\n",
    "data.set_index('Volatility', inplace = True)    # 將 Volatility 改為 index 方便畫圖"
   ]
  },
  {
   "cell_type": "code",
   "execution_count": 7,
   "metadata": {},
   "outputs": [
    {
     "data": {
      "text/plain": [
       "<matplotlib.axes._subplots.AxesSubplot at 0x24bed1851f0>"
      ]
     },
     "execution_count": 7,
     "metadata": {},
     "output_type": "execute_result"
    },
    {
     "data": {
      "image/png": "[encoded data removed]",
      "text/plain": [
       "<Figure size 432x288 with 1 Axes>"
      ]
     },
     "metadata": {
      "needs_background": "light"
     },
     "output_type": "display_data"
    }
   ],
   "source": [
    "data.plot()"
   ]
  },
  {
   "cell_type": "markdown",
   "metadata": {},
   "source": [
    "### 由上圖可知滿足「單調函數」之條件，故可使用二分法搜尋隱含波動度"
   ]
  }
 ],
 "metadata": {
  "kernelspec": {
   "display_name": "Python 3 (ipykernel)",
   "language": "python",
   "name": "python3"
  },
  "language_info": {
   "codemirror_mode": {
    "name": "ipython",
    "version": 3
   },
   "file_extension": ".py",
   "mimetype": "text/x-python",
   "name": "python",
   "nbconvert_exporter": "python",
   "pygments_lexer": "ipython3",
   "version": "3.10.11"
  }
 },
 "nbformat": 4,
 "nbformat_minor": 4
}
