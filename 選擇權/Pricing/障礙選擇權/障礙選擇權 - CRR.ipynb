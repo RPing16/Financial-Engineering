{
 "cells": [
  {
   "cell_type": "markdown",
   "id": "383ba2be",
   "metadata": {},
   "source": [
    "# 主旨\n",
    "使用CRR計算歐式&美式障礙選擇權\n",
    "1. 歐式障礙選擇權\n",
    "    - 出局選擇權\n",
    "    - 入局選擇權\n",
    "2. 美式障礙選擇權\n",
    "    - 出局選擇權\n",
    "    - 入局選擇權\n",
    "3. 驗證障礙選擇權計算是否正確\n",
    "    - 歐式\n",
    "    - 美式\n",
    "4. CRR收斂情況"
   ]
  },
  {
   "cell_type": "markdown",
   "id": "cad5c1e0",
   "metadata": {},
   "source": [
    "# 導入套件"
   ]
  },
  {
   "cell_type": "code",
   "execution_count": 1,
   "id": "645fbdb4",
   "metadata": {},
   "outputs": [],
   "source": [
    "import numpy as np \n",
    "from scipy.stats import norm\n",
    "import matplotlib.pyplot as plt\n",
    "import crr_funcs  # 自製使用CRR計算陽春美式option的函數，用於驗證"
   ]
  },
  {
   "cell_type": "markdown",
   "id": "26116b77",
   "metadata": {},
   "source": [
    "# 第一部份 歐式障礙選擇權"
   ]
  },
  {
   "cell_type": "markdown",
   "id": "c812fa1a",
   "metadata": {},
   "source": [
    "## 1-1 出局選擇權"
   ]
  },
  {
   "cell_type": "markdown",
   "id": "2f8cfef2",
   "metadata": {},
   "source": [
    "### 1-1-1 歐式上出局買權 "
   ]
  },
  {
   "cell_type": "code",
   "execution_count": 2,
   "id": "8647b382",
   "metadata": {},
   "outputs": [
    {
     "data": {
      "text/plain": [
       "9.970522921901265"
      ]
     },
     "execution_count": 2,
     "metadata": {},
     "output_type": "execute_result"
    }
   ],
   "source": [
    "def eu_up_out_call( S0:float, K:float, r:float, T:float, n:int, sigma:float, H:float ) -> np.float64 : \n",
    "    '''\n",
    "    功能 : 計算歐式上出局買權價格\n",
    "    輸入 : \n",
    "        1. S0 : 期初股價，type=float\n",
    "        2. K : 履約價，type=float\n",
    "        3. r : 無風險利率，type=float\n",
    "        4. T : 到期期限(單位:年)，type=float\n",
    "        5. n : 期數，type=int\n",
    "        6. sigma : 波動度，type=float\n",
    "        7. H : 障礙價格，type=float\n",
    "    輸出 :\n",
    "        call_price : 歐式上出局買權價格，type=np.float64\n",
    "    '''\n",
    "    # 計算相關參數\n",
    "    dt = T / n  # 每一期間隔時間\n",
    "    u = np.exp( sigma * np.sqrt(dt) )  # 漲幅\n",
    "    d = 1 / u  # 跌幅\n",
    "    prob = ( np.exp(r*dt) - d ) / (u - d)  # 股價上漲的風險中立機率\n",
    "    discount_factor = np.exp(-r*dt)  # 折現因子\n",
    "    \n",
    "    # 計算選擇權期末payoff\n",
    "    ST = S0 * u**n  # 期末(t=T=n)下跌次數=0的股價(一直上漲情境)\n",
    "    option_value = [0]*(n+1)  # 建構(n+1)*1的list，盛裝第t期下每個股價情境(t+1的情境)的選擇權payoff\n",
    "    for i in range(n+1)  :  # i控制股價情境(第t=T=n期有t+1=n+1個情境)\n",
    "        if ST >= H  : # 若股價觸碰到障礙價格\n",
    "            option_value[i] = 0  # option出局\n",
    "        else :\n",
    "            option_value[i] = max( ST - K, 0 )\n",
    "        ST *= d * d  # 計算下個迴圈的ST(ST=第n期股價，ST*d=第n-1期股價，ST*d*d=第n期下跌股價)\n",
    "    \n",
    "    # 向前歸納計算選擇權價格\n",
    "    for t in range(n-1, -1, -1) :  # 從第n-1期向前計算至第0期，每次往前一期\n",
    "        St = S0 * u**t  # 計算第t期下跌次數=0的股價\n",
    "        for i in range(t+1) : # i控制股價情境(第t期有t+1個股價情境)\n",
    "            if St >= H :  # 若股價觸碰到障礙價格\n",
    "                option_value[i] = 0  # option出局\n",
    "            else : \n",
    "                option_value[i] = discount_factor * ( option_value[i]*prob + option_value[i+1]*(1-prob) )\n",
    "            St *= d * d  # 計算下個迴圈的St(St=第t期股價，St*d=第t-1期股價，St*d*d=第t期下跌股價)\n",
    "    call_price = option_value[0]\n",
    "    \n",
    "    return call_price\n",
    "\n",
    "eu_up_out_call( S0=100, K=100, r=0.05, T=1.0, n=4, sigma=0.2, H=150 )"
   ]
  },
  {
   "cell_type": "markdown",
   "id": "ca6ebe9d",
   "metadata": {},
   "source": [
    "### 1-1-2 歐式上出局賣權"
   ]
  },
  {
   "cell_type": "code",
   "execution_count": 3,
   "id": "2897ab58",
   "metadata": {},
   "outputs": [
    {
     "data": {
      "text/plain": [
       "5.093465371972652"
      ]
     },
     "execution_count": 3,
     "metadata": {},
     "output_type": "execute_result"
    }
   ],
   "source": [
    "def eu_up_out_put( S0:float, K:float, r:float, T:float, n:int, sigma:float, H:float ) -> np.float64 : \n",
    "    '''\n",
    "    功能 : 計算歐式上出局賣權價格\n",
    "    輸入 : \n",
    "        1. S0 : 期初股價，type=float\n",
    "        2. K : 履約價，type=float\n",
    "        3. r : 無風險利率，type=float\n",
    "        4. T : 到期期限(單位:年)，type=float\n",
    "        5. n : 期數，type=int\n",
    "        6. sigma : 波動度，type=float\n",
    "        7. H : 障礙價格，type=float\n",
    "    輸出 :\n",
    "        put_price : 歐式上出局賣權價格，type=np.float64\n",
    "    '''\n",
    "    # 計算相關參數\n",
    "    dt = T / n  # 每一期間隔時間\n",
    "    u = np.exp( sigma * np.sqrt(dt) )  # 漲幅\n",
    "    d = 1 / u  # 跌幅\n",
    "    prob = ( np.exp(r*dt) - d ) / (u - d)  # 股價上漲的風險中立機率\n",
    "    discount_factor = np.exp(-r*dt)  # 折現因子\n",
    "    \n",
    "    # 計算選擇權期末payoff\n",
    "    ST = S0 * u**n  # 期末(t=T=n)下跌次數=0的股價(一直上漲情境)\n",
    "    option_value = [0]*(n+1)  # 建構(n+1)*1的list，盛裝第t期下每個股價情境(t+1的情境)的選擇權payoff\n",
    "    for i in range(n+1)  :  # i控制股價情境(第t=T=n期有t+1=n+1個情境)\n",
    "        if ST >= H  : # 若股價觸碰到障礙價格\n",
    "            option_value[i] = 0  # option出局\n",
    "        else :\n",
    "            option_value[i] = max( K - ST, 0 )\n",
    "        ST *= d * d  # 計算下個迴圈的ST(ST=第n期股價，ST*d=第n-1期股價，ST*d*d=第n期下跌股價)\n",
    "    \n",
    "    # 向前歸納計算選擇權價格\n",
    "    for t in range(n-1, -1, -1) :  # 從第n-1期向前計算至第0期，每次往前一期\n",
    "        St = S0 * u**t  # 計算第t期下跌次數=0的股價\n",
    "        for i in range(t+1) : # i控制股價情境(第t期有t+1個股價情境)\n",
    "            if St >= H :  # 若股價觸碰到障礙價格\n",
    "                option_value[i] = 0  # option出局\n",
    "            else : \n",
    "                option_value[i] = discount_factor * ( option_value[i]*prob + option_value[i+1]*(1-prob) )\n",
    "            St *= d * d  # 計算下個迴圈的St(St=第t期股價，St*d=第t-1期股價，St*d*d=第t期下跌股價)\n",
    "\n",
    "    put_price = option_value[0]\n",
    "    \n",
    "    return put_price\n",
    "\n",
    "eu_up_out_put( S0=100, K=100, r=0.05, T=1.0, n=4, sigma=0.2, H=130 )"
   ]
  },
  {
   "cell_type": "markdown",
   "id": "8e0101aa",
   "metadata": {},
   "source": [
    "### 1-1-3 歐式下出局買權"
   ]
  },
  {
   "cell_type": "code",
   "execution_count": 4,
   "id": "62bd00d6",
   "metadata": {},
   "outputs": [
    {
     "data": {
      "text/plain": [
       "9.970522921901265"
      ]
     },
     "execution_count": 4,
     "metadata": {},
     "output_type": "execute_result"
    }
   ],
   "source": [
    "def eu_down_out_call( S0:float, K:float, r:float, T:float, n:int, sigma:float, H:float ) -> np.float64 : \n",
    "    '''\n",
    "    功能 : 計算歐式下出局買權價格\n",
    "    輸入 : \n",
    "        1. S0 : 期初股價，type=float\n",
    "        2. K : 履約價，type=float\n",
    "        3. r : 無風險利率，type=float\n",
    "        4. T : 到期期限(單位:年)，type=float\n",
    "        5. n : 期數，type=int\n",
    "        6. sigma : 波動度，type=float\n",
    "        7. H : 障礙價格，type=float\n",
    "    輸出 :\n",
    "        call_price : 歐式下出局買權價格，type=np.float64\n",
    "    '''\n",
    "    # 計算相關參數\n",
    "    dt = T / n  # 每一期間隔時間\n",
    "    u = np.exp( sigma * np.sqrt(dt) )  # 漲幅\n",
    "    d = 1 / u  # 跌幅\n",
    "    prob = ( np.exp(r*dt) - d ) / (u - d)  # 股價上漲的風險中立機率\n",
    "    discount_factor = np.exp(-r*dt)  # 折現因子\n",
    "    \n",
    "    # 計算選擇權期末payoff\n",
    "    ST = S0 * u**n  # 期末(t=T=n)下跌次數=0的股價(一直上漲情境)\n",
    "    option_value = [0]*(n+1)  # 建構(n+1)*1的list，盛裝第t期下每個股價情境(t+1的情境)的選擇權payoff\n",
    "    for i in range(n+1)  :  # i控制股價情境(第t=T=n期有t+1=n+1個情境)\n",
    "        if ST <= H  : # 若股價觸碰到障礙價格\n",
    "            option_value[i] = 0  # option出局\n",
    "        else :\n",
    "            option_value[i] = max( ST - K, 0 )\n",
    "        ST *= d * d  # 計算下個迴圈的ST(ST=第n期股價，ST*d=第n-1期股價，ST*d*d=第n期下跌股價)\n",
    "    \n",
    "    # 向前歸納計算選擇權價格\n",
    "    for t in range(n-1, -1, -1) :  # 從第n-1期向前計算至第0期，每次往前一期\n",
    "        St = S0 * u**t  # 計算第t期下跌次數=0的股價\n",
    "        for i in range(t+1) : # i控制股價情境(第t期有t+1個股價情境)\n",
    "            if St <= H :  # 若股價觸碰到障礙價格\n",
    "                option_value[i] = 0  # option出局\n",
    "            else : \n",
    "                option_value[i] = discount_factor * ( option_value[i]*prob + option_value[i+1]*(1-prob) )\n",
    "            St *= d * d  # 計算下個迴圈的St(St=第t期股價，St*d=第t-1期股價，St*d*d=第t期下跌股價)   \n",
    "        \n",
    "    call_price = option_value[0]\n",
    "    \n",
    "    return call_price\n",
    "\n",
    "eu_down_out_call( S0=100, K=100, r=0.05, T=1.0, n=4, sigma=0.2, H=90 )"
   ]
  },
  {
   "cell_type": "markdown",
   "id": "8f81ced1",
   "metadata": {},
   "source": [
    "### 1-1-4 歐式下出局賣權"
   ]
  },
  {
   "cell_type": "code",
   "execution_count": 5,
   "id": "1e04c8a5",
   "metadata": {},
   "outputs": [
    {
     "data": {
      "text/plain": [
       "3.662378113378874"
      ]
     },
     "execution_count": 5,
     "metadata": {},
     "output_type": "execute_result"
    }
   ],
   "source": [
    "def eu_down_out_put( S0:float, K:float, r:float, T:float, n:int, sigma:float, H:float ) -> np.float64 : \n",
    "    '''\n",
    "    功能 : 計算歐式下出局賣權價格\n",
    "    輸入 : \n",
    "        1. S0 : 期初股價，type=float\n",
    "        2. K : 履約價，type=float\n",
    "        3. r : 無風險利率，type=float\n",
    "        4. T : 到期期限(單位:年)，type=float\n",
    "        5. n : 期數，type=int\n",
    "        6. sigma : 波動度，type=float\n",
    "        7. H : 障礙價格，type=float\n",
    "    輸出 :\n",
    "        put_price : 歐式下出局賣權價格，type=np.float64\n",
    "    ''' \n",
    "    # 計算相關參數\n",
    "    dt = T / n  # 每一期間隔時間\n",
    "    u = np.exp( sigma * np.sqrt(dt) )  # 漲幅\n",
    "    d = 1 / u  # 跌幅\n",
    "    prob = ( np.exp(r*dt) - d ) / (u - d)  # 股價上漲的風險中立機率\n",
    "    discount_factor = np.exp(-r*dt)  # 折現因子\n",
    "    \n",
    "    # 計算選擇權期末payoff\n",
    "    ST = S0 * u**n  # 期末(t=T=n)下跌次數=0的股價(一直上漲情境)\n",
    "    option_value = [0]*(n+1)  # 建構(n+1)*1的list，盛裝第t期下每個股價情境(t+1的情境)的選擇權payoff\n",
    "    for i in range(n+1)  :  # i控制股價情境(第t=T=n期有t+1=n+1個情境)\n",
    "        if ST <= H  : # 若股價觸碰到障礙價格\n",
    "            option_value[i] = 0  # option出局\n",
    "        else :\n",
    "            option_value[i] = max( K - ST, 0 )\n",
    "        ST *= d * d  # 計算下個迴圈的ST(ST=第n期股價，ST*d=第n-1期股價，ST*d*d=第n期下跌股價)\n",
    "    \n",
    "    # 向前歸納計算選擇權價格\n",
    "    for t in range(n-1, -1, -1) :  # 從第n-1期向前計算至第0期，每次往前一期\n",
    "        St = S0 * u**t  # 計算第t期下跌次數=0的股價\n",
    "        for i in range(t+1) : # i控制股價情境(第t期有t+1個股價情境)\n",
    "            if St <= H :  # 若股價觸碰到障礙價格\n",
    "                option_value[i] = 0  # option出局\n",
    "            else : \n",
    "                option_value[i] = discount_factor * ( option_value[i]*prob + option_value[i+1]*(1-prob) )\n",
    "            St *= d * d  # 計算下個迴圈的St(St=第t期股價，St*d=第t-1期股價，St*d*d=第t期下跌股價)\n",
    "\n",
    "    put_price = option_value[0]\n",
    "    \n",
    "    return put_price\n",
    "\n",
    "eu_down_out_put( S0=100, K=100, r=0.05, T=1.0, n=4, sigma=0.2, H=70 )"
   ]
  },
  {
   "cell_type": "markdown",
   "id": "abaa42d6",
   "metadata": {},
   "source": [
    "## 1-2 入局選擇權"
   ]
  },
  {
   "cell_type": "markdown",
   "id": "9ff5b629",
   "metadata": {},
   "source": [
    "- 入局寫法不能向上方出局那樣寫，若按照上方出局的寫法，只有期初沒有入局，option_value勢必=0(因上方在if中強制塞0)"
   ]
  },
  {
   "cell_type": "markdown",
   "id": "db9139c2",
   "metadata": {},
   "source": [
    "### 1-2-1 歐式上入局買權"
   ]
  },
  {
   "cell_type": "code",
   "execution_count": 6,
   "id": "c00a3527",
   "metadata": {},
   "outputs": [
    {
     "data": {
      "text/plain": [
       "5.428029494247695"
      ]
     },
     "execution_count": 6,
     "metadata": {},
     "output_type": "execute_result"
    }
   ],
   "source": [
    "def eu_up_in_call( S0:float, K:float, r:float, T:float, n:int, sigma:float, H:float ) -> np.float64 : \n",
    "    '''\n",
    "    功能 : 計算歐式上入局買權價格\n",
    "    輸入 : \n",
    "        1. S0 : 期初股價，type=float\n",
    "        2. K : 履約價，type=float\n",
    "        3. r : 無風險利率，type=float\n",
    "        4. T : 到期期限(單位:年)，type=float\n",
    "        5. n : 期數，type=int\n",
    "        6. sigma : 波動度，type=float\n",
    "        7. H : 障礙價格，type=float\n",
    "    輸出 :\n",
    "        call_price : 歐式上入局買權價格，type=np.float64\n",
    "    '''\n",
    "    # 計算相關參數\n",
    "    dt = T / n  # 每一期間隔時間\n",
    "    u = np.exp( sigma * np.sqrt(dt) )  # 漲幅\n",
    "    d = 1 / u  # 跌幅\n",
    "    prob = ( np.exp(r*dt) - d ) / (u - d)  # 股價上漲的風險中立機率\n",
    "    discount_factor = np.exp(-r*dt)  # 折現因子\n",
    "    \n",
    "    # 計算選擇權期末payoff\n",
    "    ST = S0 * u**n  # 期末(t=T=n)下跌次數=0的股價(一直上漲情境)\n",
    "    option_value = [ [0]*2 for _ in range(n+1) ]  # 建構(n+1)*1的list，盛裝第t期下每個股價情境(t+1的情境)的選擇權payoff\n",
    "    for i in range(n+1) :\n",
    "        option_value[i][0] = 0  # 計算未曾觸碰過障礙價格(H)的履約價值(未入局)\n",
    "        option_value[i][1] = max( ST - K, 0 )  # 計算曾觸碰過障礙價格(H)的履約價值(入局)\n",
    "        ST *= d*d\n",
    "        \n",
    "    # 向前歸納計算選擇權價格\n",
    "    for t in range(n-1, -1, -1) :\n",
    "        St = S0 * u**t\n",
    "        for i in range(t+1) :\n",
    "            if St >= H :  # Case1 : 當前股價<=H(入局)\n",
    "                option_value[i][0] = 0  \n",
    "                option_value[i][1] = discount_factor * ( option_value[i][1]*prob + option_value[i+1][1]*(1-prob) )\n",
    "            elif St*u >= H :  # Case2 : 當前股價<H(未入局)，但下一期上漲股價入局\n",
    "                option_value[i][0] = discount_factor * ( option_value[i][1]*prob + option_value[i+1][0]*(1-prob) )\n",
    "                option_value[i][1] = discount_factor * ( option_value[i][1]*prob + option_value[i+1][1]*(1-prob) )\n",
    "            else :  # Case 3 : 未來上漲股價<H (未入局)\n",
    "                option_value[i][0] = discount_factor * ( option_value[i][0]*prob + option_value[i+1][0]*(1-prob) )\n",
    "                option_value[i][1] = discount_factor * ( option_value[i][1]*prob + option_value[i+1][1]*(1-prob) )\n",
    "            St *= d*d\n",
    "    \n",
    "    # 判斷期初option是否已入局\n",
    "    if S0 < H :  # 未入局    \n",
    "        call_price = option_value[0][0]\n",
    "    else :  # 入局\n",
    "        call_price = option_value[0][1]\n",
    "    \n",
    "    return call_price\n",
    "\n",
    "eu_up_in_call( S0=100, K=100, r=0.05, T=1.0, n=4, sigma=0.2, H=130)"
   ]
  },
  {
   "cell_type": "markdown",
   "id": "169a426e",
   "metadata": {},
   "source": [
    "### 1-2-2 歐式上入局賣權"
   ]
  },
  {
   "cell_type": "code",
   "execution_count": 7,
   "id": "d5ebe087",
   "metadata": {},
   "outputs": [
    {
     "data": {
      "text/plain": [
       "5.093465371972652"
      ]
     },
     "execution_count": 7,
     "metadata": {},
     "output_type": "execute_result"
    }
   ],
   "source": [
    "def eu_up_in_put( S0:float, K:float, r:float, T:float, n:int, sigma:float, H:float ) -> np.float64 : \n",
    "    '''\n",
    "    功能 : 計算歐式上入局賣權價格\n",
    "    輸入 : \n",
    "        1. S0 : 期初股價，type=float\n",
    "        2. K : 履約價，type=float\n",
    "        3. r : 無風險利率，type=float\n",
    "        4. T : 到期期限(單位:年)，type=float\n",
    "        5. n : 期數，type=int\n",
    "        6. sigma : 波動度，type=float\n",
    "        7. H : 障礙價格，type=float\n",
    "    輸出 :\n",
    "        put_price : 歐式上入局賣權價格，type=np.float64\n",
    "    '''\n",
    "    # 計算相關參數\n",
    "    dt = T / n  # 每一期間隔時間\n",
    "    u = np.exp( sigma * np.sqrt(dt) )  # 漲幅\n",
    "    d = 1 / u  # 跌幅\n",
    "    prob = ( np.exp(r*dt) - d ) / (u - d)  # 股價上漲的風險中立機率\n",
    "    discount_factor = np.exp(-r*dt)  # 折現因子\n",
    "    \n",
    "    # 計算選擇權期末payoff\n",
    "    ST = S0 * u**n  # 期末(t=T=n)下跌次數=0的股價(一直上漲情境)\n",
    "    option_value = [ [0]*2 for _ in range(n+1) ]  # 建構(n+1)*1的list，盛裝第t期下每個股價情境(t+1的情境)的選擇權payoff\n",
    "    for i in range(n+1) :\n",
    "        option_value[i][0] = 0  # 計算未曾觸碰過障礙價格(H)的履約價值(未入局)\n",
    "        option_value[i][1] = max( K - ST, 0 )  # 計算曾觸碰過障礙價格(H)的履約價值(入局)\n",
    "        ST *= d*d\n",
    "        \n",
    "    # 向前歸納計算選擇權價格\n",
    "    for t in range(n-1, -1, -1) :\n",
    "        St = S0 * u**t\n",
    "        for i in range(t+1) :\n",
    "            if St >= H :  # Case1 : 當前股價>=H(入局)\n",
    "                option_value[i][0] = 0  \n",
    "                option_value[i][1] = discount_factor * ( option_value[i][1]*prob + option_value[i+1][1]*(1-prob) )\n",
    "            elif St*u >= H :  # Case2 : 當前股價<H(未入局)，但下一期上漲股價入局\n",
    "                option_value[i][0] = discount_factor * ( option_value[i][1]*prob + option_value[i+1][0]*(1-prob) )\n",
    "                option_value[i][1] = discount_factor * ( option_value[i][1]*prob + option_value[i+1][1]*(1-prob) )\n",
    "            else :  # Case 3 : 未來上漲股價<H (未入局)\n",
    "                option_value[i][0] = discount_factor * ( option_value[i][0]*prob + option_value[i+1][0]*(1-prob) )\n",
    "                option_value[i][1] = discount_factor * ( option_value[i][1]*prob + option_value[i+1][1]*(1-prob) )\n",
    "            St *= d*d\n",
    "    \n",
    "    # 判斷期初option是否已入局\n",
    "    if S0 < H :  # 未入局    \n",
    "        put_price = option_value[0][0]\n",
    "    else :  # 入局\n",
    "        put_price = option_value[0][1]\n",
    "    \n",
    "    return put_price\n",
    "\n",
    "eu_up_in_put( S0=100, K=100, r=0.05, T=1.0, n=4, sigma=0.2, H=90)"
   ]
  },
  {
   "cell_type": "markdown",
   "id": "f2f484d4",
   "metadata": {},
   "source": [
    "### 1-2-3 歐式下入局買權"
   ]
  },
  {
   "cell_type": "code",
   "execution_count": 8,
   "id": "82169cf1",
   "metadata": {},
   "outputs": [
    {
     "data": {
      "text/plain": [
       "1.55391569514905"
      ]
     },
     "execution_count": 8,
     "metadata": {},
     "output_type": "execute_result"
    }
   ],
   "source": [
    "def eu_down_in_call( S0:float, K:float, r:float, T:float, n:int, sigma:float, H:float ) -> np.float64 : \n",
    "    '''\n",
    "    功能 : 計算歐式下入局買權價格\n",
    "    輸入 : \n",
    "        1. S0 : 期初股價，type=float\n",
    "        2. K : 履約價，type=float\n",
    "        3. r : 無風險利率，type=float\n",
    "        4. T : 到期期限(單位:年)，type=float\n",
    "        5. n : 期數，type=int\n",
    "        6. sigma : 波動度，type=float\n",
    "        7. H : 障礙價格，type=float\n",
    "    輸出 :\n",
    "        call_price : 歐式下入局買權價格，type=np.float64\n",
    "    '''\n",
    "    # 計算相關參數\n",
    "    dt = T / n  # 每一期間隔時間\n",
    "    u = np.exp( sigma * np.sqrt(dt) )  # 漲幅\n",
    "    d = 1 / u  # 跌幅\n",
    "    prob = ( np.exp(r*dt) - d ) / (u - d)  # 股價上漲的風險中立機率\n",
    "    discount_factor = np.exp(-r*dt)  # 折現因子\n",
    "    \n",
    "    # 計算選擇權期末payoff\n",
    "    ST = S0 * u**n  # 期末(t=T=n)下跌次數=0的股價(一直上漲情境)\n",
    "    option_value = [ [0]*2 for _ in range(n+1) ]  # 建構(n+1)*1的list，盛裝第t期下每個股價情境(t+1的情境)的選擇權payoff\n",
    "    for i in range(n+1) :\n",
    "        option_value[i][0] = 0  # 計算未曾觸碰過障礙價格(H)的履約價值(未入局)\n",
    "        option_value[i][1] = max( ST - K, 0 )  # 計算曾觸碰過障礙價格(H)的履約價值(入局)\n",
    "        ST *= d*d   \n",
    "        \n",
    "    # 向前歸納計算選擇權價格\n",
    "    for t in range(n-1, -1, -1) :\n",
    "        St = S0 * u**t\n",
    "        for i in range(t+1) :\n",
    "            if St <= H :  # Case1 : 當前股價<=H(入局)\n",
    "                option_value[i][0] = 0  \n",
    "                option_value[i][1] = discount_factor * ( option_value[i][1]*prob + option_value[i+1][1]*(1-prob) )\n",
    "            elif St*d <= H :  # Case2 : 當前股價>H(未入局)，但下一期下跌股價入局\n",
    "                option_value[i][0] = discount_factor * ( option_value[i][0]*prob + option_value[i+1][1]*(1-prob) )\n",
    "                option_value[i][1] = discount_factor * ( option_value[i][1]*prob + option_value[i+1][1]*(1-prob) )\n",
    "            else :  # Case 3 : 未來下跌股價>H (未入局)\n",
    "                option_value[i][0] = discount_factor * ( option_value[i][0]*prob + option_value[i+1][0]*(1-prob) )\n",
    "                option_value[i][1] = discount_factor * ( option_value[i][1]*prob + option_value[i+1][1]*(1-prob) )\n",
    "            St *= d*d\n",
    "    \n",
    "    # 判斷期初option是否已入局\n",
    "    if S0 > H :  # 未入局    \n",
    "        call_price = option_value[0][0]\n",
    "    else :  # 入局\n",
    "        call_price = option_value[0][1]\n",
    "    \n",
    "    return call_price\n",
    "\n",
    "eu_down_in_call( S0=100, K=80, r=0.05, T=1.0, n=4, sigma=0.2, H=90)"
   ]
  },
  {
   "cell_type": "markdown",
   "id": "8163010c",
   "metadata": {},
   "source": [
    "### 1-2-4 歐式下入局賣權"
   ]
  },
  {
   "cell_type": "code",
   "execution_count": 9,
   "id": "34dd4226",
   "metadata": {},
   "outputs": [
    {
     "data": {
      "text/plain": [
       "5.093465371972652"
      ]
     },
     "execution_count": 9,
     "metadata": {},
     "output_type": "execute_result"
    }
   ],
   "source": [
    "def eu_down_in_put( S0:float, K:float, r:float, T:float, n:int, sigma:float, H:float ) -> np.float64 : \n",
    "    '''\n",
    "    功能 : 計算歐式下入局賣權價格\n",
    "    輸入 : \n",
    "        1. S0 : 期初股價，type=float\n",
    "        2. K : 履約價，type=float\n",
    "        3. r : 無風險利率，type=float\n",
    "        4. T : 到期期限(單位:年)，type=float\n",
    "        5. n : 期數，type=int\n",
    "        6. sigma : 波動度，type=float\n",
    "        7. H : 障礙價格，type=float\n",
    "    輸出 :\n",
    "        put_price : 歐式下入局賣權價格，type=np.float64\n",
    "    '''\n",
    "    # 計算相關參數\n",
    "    dt = T / n  # 每一期間隔時間\n",
    "    u = np.exp( sigma * np.sqrt(dt) )  # 漲幅\n",
    "    d = 1 / u  # 跌幅\n",
    "    prob = ( np.exp(r*dt) - d ) / (u - d)  # 股價上漲的風險中立機率\n",
    "    discount_factor = np.exp(-r*dt)  # 折現因子\n",
    "    \n",
    "    # 計算選擇權期末payoff\n",
    "    ST = S0 * u**n  # 期末(t=T=n)下跌次數=0的股價(一直上漲情境)\n",
    "    option_value = [ [0]*2 for _ in range(n+1) ]  # 建構(n+1)*1的list，盛裝第t期下每個股價情境(t+1的情境)的選擇權payoff\n",
    "    for i in range(n+1) :\n",
    "        option_value[i][0] = 0  # 計算未曾觸碰過障礙價格(H)的履約價值(未入局)\n",
    "        option_value[i][1] = max( K - ST, 0 )  # 計算曾觸碰過障礙價格(H)的履約價值(入局)\n",
    "        ST *= d*d   \n",
    "        \n",
    "    # 向前歸納計算選擇權價格\n",
    "    for t in range(n-1, -1, -1) :\n",
    "        St = S0 * u**t\n",
    "        for i in range(t+1) :\n",
    "            if St <= H :  # Case1 : 當前股價<=H(入局)\n",
    "                option_value[i][0] = 0  \n",
    "                option_value[i][1] = discount_factor * ( option_value[i][1]*prob + option_value[i+1][1]*(1-prob) )\n",
    "            elif St*d <= H :  # Case2 : 當前股價>H(未入局)，但下一期下跌股價入局\n",
    "                option_value[i][0] = discount_factor * ( option_value[i][0]*prob + option_value[i+1][1]*(1-prob) )\n",
    "                option_value[i][1] = discount_factor * ( option_value[i][1]*prob + option_value[i+1][1]*(1-prob) )\n",
    "            else :  # Case 3 : 未來下跌股價>H (未入局)\n",
    "                option_value[i][0] = discount_factor * ( option_value[i][0]*prob + option_value[i+1][0]*(1-prob) )\n",
    "                option_value[i][1] = discount_factor * ( option_value[i][1]*prob + option_value[i+1][1]*(1-prob) )\n",
    "            St *= d*d\n",
    "    \n",
    "    # 判斷期初option是否已入局\n",
    "    if S0 > H :  # 未入局    \n",
    "        put_price = option_value[0][0]\n",
    "    else :  # 入局\n",
    "        put_price = option_value[0][1]\n",
    "    \n",
    "    return put_price\n",
    "\n",
    "eu_down_in_put( S0=100, K=100, r=0.05, T=1.0, n=4, sigma=0.2, H=90)"
   ]
  },
  {
   "cell_type": "markdown",
   "id": "1317b599",
   "metadata": {},
   "source": [
    "# 第二部分 美式選擇權"
   ]
  },
  {
   "cell_type": "markdown",
   "id": "7b496bf4",
   "metadata": {},
   "source": [
    "## 2-1 出局選擇權"
   ]
  },
  {
   "cell_type": "markdown",
   "id": "594acd3a",
   "metadata": {},
   "source": [
    "### 2-1-1 美式上出局買權"
   ]
  },
  {
   "cell_type": "code",
   "execution_count": 10,
   "id": "67c06b07",
   "metadata": {},
   "outputs": [
    {
     "data": {
      "text/plain": [
       "9.274024090126535"
      ]
     },
     "execution_count": 10,
     "metadata": {},
     "output_type": "execute_result"
    }
   ],
   "source": [
    "def us_up_out_call( S0:float, K:float, r:float, T:float, n:int, sigma:float, H:float ) -> np.float64 : \n",
    "    '''\n",
    "    功能 : 計算美式上出局買權價格\n",
    "    輸入 : \n",
    "        1. S0 : 期初股價，type=float\n",
    "        2. K : 履約價，type=float\n",
    "        3. r : 無風險利率，type=float\n",
    "        4. T : 到期期限(單位:年)，type=float\n",
    "        5. n : 期數，type=int\n",
    "        6. sigma : 波動度，type=float\n",
    "        7. H : 障礙價格，type=float\n",
    "    輸出 :\n",
    "        call_price : 美式上出局買權價格，type=np.float64\n",
    "    '''\n",
    "    # 計算相關參數\n",
    "    dt = T / n  # 每一期間隔時間\n",
    "    u = np.exp( sigma * np.sqrt(dt) )  # 漲幅\n",
    "    d = 1 / u  # 跌幅\n",
    "    prob = ( np.exp(r*dt) - d ) / (u - d)  # 股價上漲的風險中立機率\n",
    "    discount_factor = np.exp(-r*dt)  # 折現因子\n",
    "    \n",
    "    # 計算選擇權期末payoff\n",
    "    ST = S0 * u**n  # 期末(t=T=n)下跌次數=0的股價(一直上漲情境)\n",
    "    option_value = [0]*(n+1)  # 建構(n+1)*1的list，盛裝第t期下每個股價情境(t+1的情境)的選擇權payoff\n",
    "    for i in range(n+1)  :  # i控制股價情境(第t=T=n期有t+1=n+1個情境)\n",
    "        if ST >= H  : # 若股價觸碰到障礙價格\n",
    "            option_value[i] = 0  # option出局\n",
    "        else :\n",
    "            option_value[i] = max( ST - K, 0 )\n",
    "        ST *= d * d  # 計算下個迴圈的ST(ST=第n期股價，ST*d=第n-1期股價，ST*d*d=第n期下跌股價)\n",
    "    \n",
    "    # 向前歸納計算選擇權價格\n",
    "    for t in range(n-1, -1, -1) :  # 從第n-1期向前計算至第0期，每次往前一期\n",
    "        St = S0 * u**t  # 計算第t期下跌次數=0的股價\n",
    "        for i in range(t+1) : # i控制股價情境(第t期有t+1個股價情境)\n",
    "            if St >= H :  # 若股價觸碰到障礙價格\n",
    "                option_value[i] = 0  # option出局\n",
    "            else : \n",
    "                expect_value = discount_factor * ( option_value[i]*prob + option_value[i+1]*(1-prob) )  # 選擇權期望價值\n",
    "                exercise_value = St - K  # 選擇權履約價值\n",
    "                option_value[i] = max(expect_value, exercise_value)  # 當期option價值\n",
    "            St *= d * d  # 計算下個迴圈的St(St=第t期股價，St*d=第t-1期股價，St*d*d=第t期下跌股價)\n",
    "    call_price = option_value[0]\n",
    "    \n",
    "    return call_price\n",
    "\n",
    "us_up_out_call( S0=100, K=100, r=0.05, T=1.0, n=4, sigma=0.2, H=130 )"
   ]
  },
  {
   "cell_type": "markdown",
   "id": "fbe1144d",
   "metadata": {},
   "source": [
    "### 2-1-2 美式上出局賣權"
   ]
  },
  {
   "cell_type": "code",
   "execution_count": 11,
   "id": "894ea75e",
   "metadata": {},
   "outputs": [
    {
     "data": {
      "text/plain": [
       "5.882800351329434"
      ]
     },
     "execution_count": 11,
     "metadata": {},
     "output_type": "execute_result"
    }
   ],
   "source": [
    "def us_up_out_put( S0:float, K:float, r:float, T:float, n:int, sigma:float, H:float ) -> np.float64 : \n",
    "    '''\n",
    "    功能 : 計算美式上出局賣權價格\n",
    "    輸入 : \n",
    "        1. S0 : 期初股價，type=float\n",
    "        2. K : 履約價，type=float\n",
    "        3. r : 無風險利率，type=float\n",
    "        4. T : 到期期限(單位:年)，type=float\n",
    "        5. n : 期數，type=int\n",
    "        6. sigma : 波動度，type=float\n",
    "        7. H : 障礙價格，type=float\n",
    "    輸出 :\n",
    "        put_price : 美式上出局賣權價格，type=np.float64\n",
    "    '''\n",
    "    # 計算相關參數\n",
    "    dt = T / n  # 每一期間隔時間\n",
    "    u = np.exp( sigma * np.sqrt(dt) )  # 漲幅\n",
    "    d = 1 / u  # 跌幅\n",
    "    prob = ( np.exp(r*dt) - d ) / (u - d)  # 股價上漲的風險中立機率\n",
    "    discount_factor = np.exp(-r*dt)  # 折現因子\n",
    "    \n",
    "    # 計算選擇權期末payoff\n",
    "    ST = S0 * u**n  # 期末(t=T=n)下跌次數=0的股價(一直上漲情境)\n",
    "    option_value = [0]*(n+1)  # 建構(n+1)*1的list，盛裝第t期下每個股價情境(t+1的情境)的選擇權payoff\n",
    "    for i in range(n+1)  :  # i控制股價情境(第t=T=n期有t+1=n+1個情境)\n",
    "        if ST >= H  : # 若股價觸碰到障礙價格\n",
    "            option_value[i] = 0  # option出局\n",
    "        else :\n",
    "            option_value[i] = max( K - ST, 0 )\n",
    "        ST *= d * d  # 計算下個迴圈的ST(ST=第n期股價，ST*d=第n-1期股價，ST*d*d=第n期下跌股價)\n",
    "    \n",
    "    # 向前歸納計算選擇權價格\n",
    "    for t in range(n-1, -1, -1) :  # 從第n-1期向前計算至第0期，每次往前一期\n",
    "        St = S0 * u**t  # 計算第t期下跌次數=0的股價\n",
    "        for i in range(t+1) : # i控制股價情境(第t期有t+1個股價情境)\n",
    "            if St >= H :  # 若股價觸碰到障礙價格\n",
    "                option_value[i] = 0  # option出局\n",
    "            else : \n",
    "                expect_value = discount_factor * ( option_value[i]*prob + option_value[i+1]*(1-prob) )  # 選擇權期望價值\n",
    "                exercise_value = K - St  # 選擇權履約價值\n",
    "                option_value[i] = max(expect_value, exercise_value)  # 當期option價值\n",
    "            St *= d * d  # 計算下個迴圈的St(St=第t期股價，St*d=第t-1期股價，St*d*d=第t期下跌股價)\n",
    "\n",
    "    put_price = option_value[0]\n",
    "    \n",
    "    return put_price\n",
    "\n",
    "us_up_out_put( S0=100, K=100, r=0.05, T=1.0, n=4, sigma=0.2, H=130 )"
   ]
  },
  {
   "cell_type": "markdown",
   "id": "704f4aa2",
   "metadata": {},
   "source": [
    "### 2-1-3 美式下出局買權"
   ]
  },
  {
   "cell_type": "code",
   "execution_count": 12,
   "id": "d0e249fa",
   "metadata": {},
   "outputs": [
    {
     "data": {
      "text/plain": [
       "9.970522921901265"
      ]
     },
     "execution_count": 12,
     "metadata": {},
     "output_type": "execute_result"
    }
   ],
   "source": [
    "def us_down_out_call( S0:float, K:float, r:float, T:float, n:int, sigma:float, H:float ) -> np.float64 : \n",
    "    '''\n",
    "    功能 : 計算美式下出局買權價格\n",
    "    輸入 : \n",
    "        1. S0 : 期初股價，type=float\n",
    "        2. K : 履約價，type=float\n",
    "        3. r : 無風險利率，type=float\n",
    "        4. T : 到期期限(單位:年)，type=float\n",
    "        5. n : 期數，type=int\n",
    "        6. sigma : 波動度，type=float\n",
    "        7. H : 障礙價格，type=float\n",
    "    輸出 :\n",
    "        call_price : 美式下出局買權價格，type=np.float64\n",
    "    '''\n",
    "    # 計算相關參數\n",
    "    dt = T / n  # 每一期間隔時間\n",
    "    u = np.exp( sigma * np.sqrt(dt) )  # 漲幅\n",
    "    d = 1 / u  # 跌幅\n",
    "    prob = ( np.exp(r*dt) - d ) / (u - d)  # 股價上漲的風險中立機率\n",
    "    discount_factor = np.exp(-r*dt)  # 折現因子\n",
    "    \n",
    "    # 計算選擇權期末payoff\n",
    "    ST = S0 * u**n  # 期末(t=T=n)下跌次數=0的股價(一直上漲情境)\n",
    "    option_value = [0]*(n+1)  # 建構(n+1)*1的list，盛裝第t期下每個股價情境(t+1的情境)的選擇權payoff\n",
    "    for i in range(n+1)  :  # i控制股價情境(第t=T=n期有t+1=n+1個情境)\n",
    "        if ST <= H  : # 若股價觸碰到障礙價格\n",
    "            option_value[i] = 0  # option出局\n",
    "        else :\n",
    "            option_value[i] = max( ST - K, 0 )\n",
    "        ST *= d * d  # 計算下個迴圈的ST(ST=第n期股價，ST*d=第n-1期股價，ST*d*d=第n期下跌股價)\n",
    "    \n",
    "    # 向前歸納計算選擇權價格\n",
    "    for t in range(n-1, -1, -1) :  # 從第n-1期向前計算至第0期，每次往前一期\n",
    "        St = S0 * u**t  # 計算第t期下跌次數=0的股價\n",
    "        for i in range(t+1) : # i控制股價情境(第t期有t+1個股價情境)\n",
    "            if St <= H :  # 若股價觸碰到障礙價格\n",
    "                option_value[i] = 0  # option出局\n",
    "            else : \n",
    "                expect_value = discount_factor * ( option_value[i]*prob + option_value[i+1]*(1-prob) )  # 選擇權期望價值\n",
    "                exercise_value = St - K  # 選擇權履約價值\n",
    "                option_value[i] = max(expect_value, exercise_value)  # 當期option價值\n",
    "            St *= d * d  # 計算下個迴圈的St(St=第t期股價，St*d=第t-1期股價，St*d*d=第t期下跌股價)   \n",
    "        \n",
    "    call_price = option_value[0]\n",
    "    \n",
    "    return call_price\n",
    "\n",
    "us_down_out_call( S0=100, K=100, r=0.05, T=1.0, n=4, sigma=0.2, H=90 )"
   ]
  },
  {
   "cell_type": "markdown",
   "id": "7c005fe1",
   "metadata": {},
   "source": [
    "### 2-1-4 美式下出局賣權"
   ]
  },
  {
   "cell_type": "code",
   "execution_count": 13,
   "id": "e422cea8",
   "metadata": {},
   "outputs": [
    {
     "data": {
      "text/plain": [
       "5.882800351329434"
      ]
     },
     "execution_count": 13,
     "metadata": {},
     "output_type": "execute_result"
    }
   ],
   "source": [
    "def us_down_out_put( S0:float, K:float, r:float, T:float, n:int, sigma:float, H:float ) -> np.float64 : \n",
    "    '''\n",
    "    功能 : 計算美式下出局賣權價格\n",
    "    輸入 : \n",
    "        1. S0 : 期初股價，type=float\n",
    "        2. K : 履約價，type=float\n",
    "        3. r : 無風險利率，type=float\n",
    "        4. T : 到期期限(單位:年)，type=float\n",
    "        5. n : 期數，type=int\n",
    "        6. sigma : 波動度，type=float\n",
    "        7. H : 障礙價格，type=float\n",
    "    輸出 :\n",
    "        put_price : 美式下出局賣權價格，type=np.float64\n",
    "    ''' \n",
    "    # 計算相關參數\n",
    "    dt = T / n  # 每一期間隔時間\n",
    "    u = np.exp( sigma * np.sqrt(dt) )  # 漲幅\n",
    "    d = 1 / u  # 跌幅\n",
    "    prob = ( np.exp(r*dt) - d ) / (u - d)  # 股價上漲的風險中立機率\n",
    "    discount_factor = np.exp(-r*dt)  # 折現因子\n",
    "    \n",
    "    # 計算選擇權期末payoff\n",
    "    ST = S0 * u**n  # 期末(t=T=n)下跌次數=0的股價(一直上漲情境)\n",
    "    option_value = [0]*(n+1)  # 建構(n+1)*1的list，盛裝第t期下每個股價情境(t+1的情境)的選擇權payoff\n",
    "    for i in range(n+1)  :  # i控制股價情境(第t=T=n期有t+1=n+1個情境)\n",
    "        if ST <= H  : # 若股價觸碰到障礙價格\n",
    "            option_value[i] = 0  # option出局\n",
    "        else :\n",
    "            option_value[i] = max( K - ST, 0 )\n",
    "        ST *= d * d  # 計算下個迴圈的ST(ST=第n期股價，ST*d=第n-1期股價，ST*d*d=第n期下跌股價)\n",
    "    \n",
    "    # 向前歸納計算選擇權價格\n",
    "    for t in range(n-1, -1, -1) :  # 從第n-1期向前計算至第0期，每次往前一期\n",
    "        St = S0 * u**t  # 計算第t期下跌次數=0的股價\n",
    "        for i in range(t+1) : # i控制股價情境(第t期有t+1個股價情境)\n",
    "            if St <= H :  # 若股價觸碰到障礙價格\n",
    "                option_value[i] = 0  # option出局\n",
    "            else : \n",
    "                expect_value = discount_factor * ( option_value[i]*prob + option_value[i+1]*(1-prob) )  # 選擇權期望價值\n",
    "                exercise_value = K - St  # 選擇權履約價值\n",
    "                option_value[i] = max(expect_value, exercise_value)  # 當期option價值\n",
    "            St *= d * d  # 計算下個迴圈的St(St=第t期股價，St*d=第t-1期股價，St*d*d=第t期下跌股價)\n",
    "\n",
    "    put_price = option_value[0]\n",
    "    \n",
    "    return put_price\n",
    "\n",
    "us_down_out_put( S0=100, K=100, r=0.05, T=1.0, n=4, sigma=0.2, H=70 )"
   ]
  },
  {
   "cell_type": "markdown",
   "id": "a6cd7db6",
   "metadata": {},
   "source": [
    "## 2-2 入局選擇權"
   ]
  },
  {
   "cell_type": "markdown",
   "id": "8f025e45",
   "metadata": {},
   "source": [
    "### 2-2-1 美式上入局買權"
   ]
  },
  {
   "cell_type": "code",
   "execution_count": 14,
   "id": "48d33a49",
   "metadata": {},
   "outputs": [
    {
     "data": {
      "text/plain": [
       "5.428029494247695"
      ]
     },
     "execution_count": 14,
     "metadata": {},
     "output_type": "execute_result"
    }
   ],
   "source": [
    "def us_up_in_call( S0:float, K:float, r:float, T:float, n:int, sigma:float, H:float ) -> np.float64 : \n",
    "    '''\n",
    "    功能 : 計算美式上入局買權價格\n",
    "    輸入 : \n",
    "        1. S0 : 期初股價，type=float\n",
    "        2. K : 履約價，type=float\n",
    "        3. r : 無風險利率，type=float\n",
    "        4. T : 到期期限(單位:年)，type=float\n",
    "        5. n : 期數，type=int\n",
    "        6. sigma : 波動度，type=float\n",
    "        7. H : 障礙價格，type=float\n",
    "    輸出 :\n",
    "        call_price : 美式上入局買權價格，type=np.float64\n",
    "    '''\n",
    "    # 計算相關參數\n",
    "    dt = T / n  # 每一期間隔時間\n",
    "    u = np.exp( sigma * np.sqrt(dt) )  # 漲幅\n",
    "    d = 1 / u  # 跌幅\n",
    "    prob = ( np.exp(r*dt) - d ) / (u - d)  # 股價上漲的風險中立機率\n",
    "    discount_factor = np.exp(-r*dt)  # 折現因子\n",
    "    \n",
    "    # 計算選擇權期末payoff\n",
    "    ST = S0 * u**n  # 期末(t=T=n)下跌次數=0的股價(一直上漲情境)\n",
    "    option_value = [ [0]*2 for _ in range(n+1) ]  # 建構(n+1)*1的list，盛裝第t期下每個股價情境(t+1的情境)的選擇權payoff\n",
    "    for i in range(n+1) :\n",
    "        option_value[i][0] = 0  # 計算未曾觸碰過障礙價格(H)的履約價值(未入局)\n",
    "        option_value[i][1] = max( ST - K, 0 )  # 計算曾觸碰過障礙價格(H)的履約價值(入局)\n",
    "        ST *= d*d\n",
    "        \n",
    "    # 向前歸納計算選擇權價格\n",
    "    expect_value = [0,0]  # index=0存入「未曾」觸碰過障礙價格(H)的option期望價值；index=1則是存放「曾經」\n",
    "    for t in range(n-1, -1, -1) :\n",
    "        St = S0 * u**t\n",
    "        for i in range(t+1) :\n",
    "            if St >= H :  # Case1 : 當前股價>=H(入局)\n",
    "                # 履約價值\n",
    "                excercise_value = St - K\n",
    "                # 期望價值\n",
    "                expect_value[0] = 0  \n",
    "                expect_value[1] = discount_factor * ( option_value[i][1]*prob + option_value[i+1][1]*(1-prob) )\n",
    "                # option當期價值\n",
    "                option_value[i][0] = 0\n",
    "                option_value[i][1] = max(excercise_value, expect_value[1])\n",
    "                \n",
    "            elif St*u >= H :  # Case2 : 當前股價<H(未入局)，但下一期上漲股價入局\n",
    "                # 履約價值\n",
    "                excercise_value = 0  # 未入局\n",
    "                # 期望價值\n",
    "                expect_value[0] = discount_factor * ( option_value[i][1]*prob + option_value[i+1][0]*(1-prob) )\n",
    "                expect_value[1] = discount_factor * ( option_value[i][1]*prob + option_value[i+1][1]*(1-prob) )\n",
    "                # option當期價值\n",
    "                option_value[i][0] = max(excercise_value, expect_value[0])\n",
    "                option_value[i][1] = max(excercise_value, expect_value[1])\n",
    "            else :  # Case 3 : 未來上漲股價<H (未入局)\n",
    "                # 履約價值\n",
    "                excercise_value = 0  # 未入局\n",
    "                # 期望價值\n",
    "                expect_value[0] = discount_factor * ( option_value[i][0]*prob + option_value[i+1][0]*(1-prob) )\n",
    "                expect_value[1] = discount_factor * ( option_value[i][1]*prob + option_value[i+1][1]*(1-prob) )\n",
    "                # option當期價值\n",
    "                option_value[i][0] = max(excercise_value, expect_value[0])\n",
    "                option_value[i][1] = max(excercise_value, expect_value[1])\n",
    "            St *= d*d\n",
    "    \n",
    "    # 判斷期初option是否已入局\n",
    "    if S0 < H :  # 未入局    \n",
    "        call_price = option_value[0][0]\n",
    "    else :  # 入局\n",
    "        call_price = option_value[0][1]\n",
    "    \n",
    "    return call_price\n",
    "\n",
    "us_up_in_call( S0=100, K=100, r=0.05, T=1.0, n=4, sigma=0.2, H=130)"
   ]
  },
  {
   "cell_type": "markdown",
   "id": "b39c8fd3",
   "metadata": {},
   "source": [
    "### 2-2-2 美式上入局賣權"
   ]
  },
  {
   "cell_type": "code",
   "execution_count": 15,
   "id": "3084a742",
   "metadata": {},
   "outputs": [
    {
     "data": {
      "text/plain": [
       "5.505852802146527"
      ]
     },
     "execution_count": 15,
     "metadata": {},
     "output_type": "execute_result"
    }
   ],
   "source": [
    "def us_up_in_put( S0:float, K:float, r:float, T:float, n:int, sigma:float, H:float ) -> np.float64 : \n",
    "    '''\n",
    "    功能 : 計算美式上入局賣權價格\n",
    "    輸入 : \n",
    "        1. S0 : 期初股價，type=float\n",
    "        2. K : 履約價，type=float\n",
    "        3. r : 無風險利率，type=float\n",
    "        4. T : 到期期限(單位:年)，type=float\n",
    "        5. n : 期數，type=int\n",
    "        6. sigma : 波動度，type=float\n",
    "        7. H : 障礙價格，type=float\n",
    "    輸出 :\n",
    "        put_price : 美式上入局賣權價格，type=np.float64\n",
    "    '''\n",
    "    # 計算相關參數\n",
    "    dt = T / n  # 每一期間隔時間\n",
    "    u = np.exp( sigma * np.sqrt(dt) )  # 漲幅\n",
    "    d = 1 / u  # 跌幅\n",
    "    prob = ( np.exp(r*dt) - d ) / (u - d)  # 股價上漲的風險中立機率\n",
    "    discount_factor = np.exp(-r*dt)  # 折現因子\n",
    "    \n",
    "    # 計算選擇權期末payoff\n",
    "    ST = S0 * u**n  # 期末(t=T=n)下跌次數=0的股價(一直上漲情境)\n",
    "    option_value = [ [0]*2 for _ in range(n+1) ]  # 建構(n+1)*1的list，盛裝第t期下每個股價情境(t+1的情境)的選擇權payoff\n",
    "    for i in range(n+1) :\n",
    "        option_value[i][0] = 0  # 計算未曾觸碰過障礙價格(H)的履約價值(未入局)\n",
    "        option_value[i][1] = max( K - ST, 0 )  # 計算曾觸碰過障礙價格(H)的履約價值(入局)\n",
    "        ST *= d*d\n",
    "        \n",
    "    # 向前歸納計算選擇權價格\n",
    "    expect_value = [0,0]  # index=0存入「未曾」觸碰過障礙價格(H)的option期望價值；index=1則是存放「曾經」\n",
    "    for t in range(n-1, -1, -1) :\n",
    "        St = S0 * u**t\n",
    "        for i in range(t+1) :\n",
    "            if St >= H :  # Case1 : 當前股價>=H(入局)\n",
    "                # 履約價值\n",
    "                excercise_value = K - St\n",
    "                # 期望價值\n",
    "                expect_value[0] = 0  \n",
    "                expect_value[1] = discount_factor * ( option_value[i][1]*prob + option_value[i+1][1]*(1-prob) )\n",
    "                # option當期價值\n",
    "                option_value[i][0] = 0\n",
    "                option_value[i][1] = max(excercise_value, expect_value[1])\n",
    "                \n",
    "            elif St*u >= H :  # Case2 : 當前股價<H(未入局)，但下一期上漲股價入局\n",
    "                # 履約價值\n",
    "                excercise_value = 0  # 未入局\n",
    "                # 期望價值\n",
    "                expect_value[0] = discount_factor * ( option_value[i][1]*prob + option_value[i+1][0]*(1-prob) )\n",
    "                expect_value[1] = discount_factor * ( option_value[i][1]*prob + option_value[i+1][1]*(1-prob) )\n",
    "                # option當期價值\n",
    "                option_value[i][0] = max(excercise_value, expect_value[0])\n",
    "                option_value[i][1] = max(excercise_value, expect_value[1])\n",
    "            else :  # Case 3 : 未來上漲股價<H (未入局)\n",
    "                # 履約價值\n",
    "                excercise_value = 0  # 未入局\n",
    "                # 期望價值\n",
    "                expect_value[0] = discount_factor * ( option_value[i][0]*prob + option_value[i+1][0]*(1-prob) )\n",
    "                expect_value[1] = discount_factor * ( option_value[i][1]*prob + option_value[i+1][1]*(1-prob) )\n",
    "                # option當期價值\n",
    "                option_value[i][0] = max(excercise_value, expect_value[0])\n",
    "                option_value[i][1] = max(excercise_value, expect_value[1])\n",
    "            St *= d*d\n",
    "    \n",
    "    # 判斷期初option是否已入局\n",
    "    if S0 < H :  # 未入局    \n",
    "        put_price = option_value[0][0]\n",
    "    else :  # 入局\n",
    "        put_price = option_value[0][1]\n",
    "    \n",
    "    return put_price\n",
    "\n",
    "us_up_in_put( S0=100, K=100, r=0.05, T=1.0, n=4, sigma=0.2, H=90)"
   ]
  },
  {
   "cell_type": "markdown",
   "id": "8eaabd44",
   "metadata": {},
   "source": [
    "### 2-2-3 美式下入局買權"
   ]
  },
  {
   "cell_type": "code",
   "execution_count": 16,
   "id": "78f9d83b",
   "metadata": {},
   "outputs": [
    {
     "data": {
      "text/plain": [
       "1.55391569514905"
      ]
     },
     "execution_count": 16,
     "metadata": {},
     "output_type": "execute_result"
    }
   ],
   "source": [
    "def us_down_in_call( S0:float, K:float, r:float, T:float, n:int, sigma:float, H:float ) -> np.float64 : \n",
    "    '''\n",
    "    功能 : 計算美式下入局買權價格\n",
    "    輸入 : \n",
    "        1. S0 : 期初股價，type=float\n",
    "        2. K : 履約價，type=float\n",
    "        3. r : 無風險利率，type=float\n",
    "        4. T : 到期期限(單位:年)，type=float\n",
    "        5. n : 期數，type=int\n",
    "        6. sigma : 波動度，type=float\n",
    "        7. H : 障礙價格，type=float\n",
    "    輸出 :\n",
    "        call_price : 美式下入局買權價格，type=np.float64\n",
    "    '''\n",
    "    # 計算相關參數\n",
    "    dt = T / n  # 每一期間隔時間\n",
    "    u = np.exp( sigma * np.sqrt(dt) )  # 漲幅\n",
    "    d = 1 / u  # 跌幅\n",
    "    prob = ( np.exp(r*dt) - d ) / (u - d)  # 股價上漲的風險中立機率\n",
    "    discount_factor = np.exp(-r*dt)  # 折現因子\n",
    "    \n",
    "    # 計算選擇權期末payoff\n",
    "    ST = S0 * u**n  # 期末(t=T=n)下跌次數=0的股價(一直上漲情境)\n",
    "    option_value = [ [0]*2 for _ in range(n+1) ]  # 建構(n+1)*1的list，盛裝第t期下每個股價情境(t+1的情境)的選擇權payoff\n",
    "    for i in range(n+1) :\n",
    "        option_value[i][0] = 0  # 計算未曾觸碰過障礙價格(H)的履約價值(未入局)\n",
    "        option_value[i][1] = max( ST - K, 0 )  # 計算曾觸碰過障礙價格(H)的履約價值(入局)\n",
    "        ST *= d*d   \n",
    "        \n",
    "    # 向前歸納計算選擇權價格\n",
    "    expect_value = [0,0]  # index=0存入「未曾」觸碰過障礙價格(H)的option期望價值；index=1則是存放「曾經」\n",
    "    for t in range(n-1, -1, -1) :\n",
    "        St = S0 * u**t\n",
    "        for i in range(t+1) :\n",
    "            if St <= H :  # Case1 : 當前股價<=H(入局)\n",
    "                # 履約價值\n",
    "                excercise_value = St - K\n",
    "                # 期望價值\n",
    "                expect_value[0] = 0  \n",
    "                expect_value[1] = discount_factor * ( option_value[i][1]*prob + option_value[i+1][1]*(1-prob) )\n",
    "                # option當期價值\n",
    "                option_value[i][0] = 0\n",
    "                option_value[i][1] = max(excercise_value, expect_value[1])\n",
    "            elif St*d <= H :  # Case2 : 當前股價>H(未入局)，但下一期下跌股價入局\n",
    "                # 履約價值\n",
    "                excercise_value = 0  # 未入局\n",
    "                # 期望價值\n",
    "                expect_value[0] = discount_factor * ( option_value[i][0]*prob + option_value[i+1][1]*(1-prob) )\n",
    "                expect_value[1] = discount_factor * ( option_value[i][1]*prob + option_value[i+1][1]*(1-prob) )\n",
    "                # option當期價值\n",
    "                option_value[i][0] = max(excercise_value, expect_value[0])\n",
    "                option_value[i][1] = max(excercise_value, expect_value[1])\n",
    "            else :  # Case 3 : 未來下跌股價>H (未入局)\n",
    "                # 履約價值\n",
    "                excercise_value = 0  # 未入局\n",
    "                # 期望價值\n",
    "                expect_value[0] = discount_factor * ( option_value[i][0]*prob + option_value[i+1][0]*(1-prob) )\n",
    "                expect_value[1] = discount_factor * ( option_value[i][1]*prob + option_value[i+1][1]*(1-prob) )\n",
    "                # option當期價值\n",
    "                option_value[i][0] = max(excercise_value, expect_value[0])\n",
    "                option_value[i][1] = max(excercise_value, expect_value[1])\n",
    "            St *= d*d\n",
    "    \n",
    "    # 判斷期初option是否已入局\n",
    "    if S0 > H :  # 未入局    \n",
    "        call_price = option_value[0][0]\n",
    "    else :  # 入局\n",
    "        call_price = option_value[0][1]\n",
    "    \n",
    "    return call_price\n",
    "\n",
    "us_down_in_call( S0=100, K=80, r=0.05, T=1.0, n=4, sigma=0.2, H=90)"
   ]
  },
  {
   "cell_type": "markdown",
   "id": "7ca1e058",
   "metadata": {},
   "source": [
    "### 2-2-4 美式下入局賣權"
   ]
  },
  {
   "cell_type": "code",
   "execution_count": 17,
   "id": "30e9fddf",
   "metadata": {},
   "outputs": [
    {
     "data": {
      "text/plain": [
       "5.607875397880182"
      ]
     },
     "execution_count": 17,
     "metadata": {},
     "output_type": "execute_result"
    }
   ],
   "source": [
    "def us_down_in_put( S0:float, K:float, r:float, T:float, n:int, sigma:float, H:float ) -> np.float64 : \n",
    "    '''\n",
    "    功能 : 計算美式下入局賣權價格\n",
    "    輸入 : \n",
    "        1. S0 : 期初股價，type=float\n",
    "        2. K : 履約價，type=float\n",
    "        3. r : 無風險利率，type=float\n",
    "        4. T : 到期期限(單位:年)，type=float\n",
    "        5. n : 期數，type=int\n",
    "        6. sigma : 波動度，type=float\n",
    "        7. H : 障礙價格，type=float\n",
    "    輸出 :\n",
    "        put_price : 美式下入局賣權價格，type=np.float64\n",
    "    '''\n",
    "    # 計算相關參數\n",
    "    dt = T / n  # 每一期間隔時間\n",
    "    u = np.exp( sigma * np.sqrt(dt) )  # 漲幅\n",
    "    d = 1 / u  # 跌幅\n",
    "    prob = ( np.exp(r*dt) - d ) / (u - d)  # 股價上漲的風險中立機率\n",
    "    discount_factor = np.exp(-r*dt)  # 折現因子\n",
    "    \n",
    "    # 計算選擇權期末payoff\n",
    "    ST = S0 * u**n  # 期末(t=T=n)下跌次數=0的股價(一直上漲情境)\n",
    "    option_value = [ [0]*2 for _ in range(n+1) ]  # 建構(n+1)*1的list，盛裝第t期下每個股價情境(t+1的情境)的選擇權payoff\n",
    "    for i in range(n+1) :\n",
    "        option_value[i][0] = 0  # 計算未曾觸碰過障礙價格(H)的履約價值(未入局)\n",
    "        option_value[i][1] = max( K - ST, 0 )  # 計算曾觸碰過障礙價格(H)的履約價值(入局)\n",
    "        ST *= d*d   \n",
    "        \n",
    "    # 向前歸納計算選擇權價格\n",
    "    expect_value = [0,0]  # index=0存入「未曾」觸碰過障礙價格(H)的option期望價值；index=1則是存放「曾經」\n",
    "    for t in range(n-1, -1, -1) :\n",
    "        St = S0 * u**t\n",
    "        for i in range(t+1) :\n",
    "            if St <= H :  # Case1 : 當前股價<=H(入局)\n",
    "                # 履約價值\n",
    "                excercise_value = K - St\n",
    "                # 期望價值\n",
    "                expect_value[0] = 0  \n",
    "                expect_value[1] = discount_factor * ( option_value[i][1]*prob + option_value[i+1][1]*(1-prob) )\n",
    "                # option當期價值\n",
    "                option_value[i][0] = 0\n",
    "                option_value[i][1] = max(excercise_value, expect_value[1])\n",
    "            elif St*d <= H :  # Case2 : 當前股價>H(未入局)，但下一期下跌股價入局\n",
    "                # 履約價值\n",
    "                excercise_value = 0  # 未入局\n",
    "                # 期望價值\n",
    "                expect_value[0] = discount_factor * ( option_value[i][0]*prob + option_value[i+1][1]*(1-prob) )\n",
    "                expect_value[1] = discount_factor * ( option_value[i][1]*prob + option_value[i+1][1]*(1-prob) )\n",
    "                # option當期價值\n",
    "                option_value[i][0] = max(excercise_value, expect_value[0])\n",
    "                option_value[i][1] = max(excercise_value, expect_value[1])\n",
    "            else :  # Case 3 : 未來下跌股價>H (未入局)\n",
    "                # 履約價值\n",
    "                excercise_value = 0  # 未入局\n",
    "                # 期望價值\n",
    "                expect_value[0] = discount_factor * ( option_value[i][0]*prob + option_value[i+1][0]*(1-prob) )\n",
    "                expect_value[1] = discount_factor * ( option_value[i][1]*prob + option_value[i+1][1]*(1-prob) )\n",
    "                # option當期價值\n",
    "                option_value[i][0] = max(excercise_value, expect_value[0])\n",
    "                option_value[i][1] = max(excercise_value, expect_value[1])\n",
    "            St *= d*d\n",
    "    \n",
    "    # 判斷期初option是否已入局\n",
    "    if S0 > H :  # 未入局    \n",
    "        put_price = option_value[0][0]\n",
    "    else :  # 入局\n",
    "        put_price = option_value[0][1]\n",
    "    \n",
    "    return put_price\n",
    "\n",
    "us_down_in_put( S0=100, K=100, r=0.05, T=1.0, n=4, sigma=0.2, H=90)"
   ]
  },
  {
   "cell_type": "markdown",
   "id": "f8b67b4c",
   "metadata": {},
   "source": [
    "# 第三部分 驗證障礙選擇權計算是否正確"
   ]
  },
  {
   "cell_type": "markdown",
   "id": "6bb17c1b",
   "metadata": {},
   "source": [
    "## 3-1 歐式選擇權\n",
    "驗證方法 : 若計算正確，下方等式應成立(一般option用Black-Sholes model計算)\n",
    "1. 上出局call + 上入局call = 一般call\n",
    "2. 上出局put + 上入局put = 一般put\n",
    "3. 下出局call + 下入局call = 一般call\n",
    "4. 下出局put + 下入局put = 一般put"
   ]
  },
  {
   "cell_type": "code",
   "execution_count": 18,
   "id": "9b44dc4b",
   "metadata": {},
   "outputs": [],
   "source": [
    "def BS_option( S0:float, K:float, r:float, T:float, sigma:float, option : str ) -> np.float64 :\n",
    "    '''\n",
    "    功能 : 使用Black-Sholes model計算歐式選擇權價格\n",
    "    輸入 : \n",
    "    1. S0 : 期初股價，type=float\n",
    "    2. K : 履約價，type=float\n",
    "    3. r : 無風險利率，type=float\n",
    "    4. T : 到期期限(單位:年)，type=float\n",
    "    5. sigma : 波動度，type=float\n",
    "    6. option : 計算買權or賣權，只能輸入「call」或「put」，type=str\n",
    "    '''\n",
    "    #   設定參數   #\n",
    "    d1 = (np.log(S0/K) + (r+sigma**2/2)*T )/sigma*np.sqrt(T)\n",
    "    d2 = d1 - sigma*np.sqrt(T)      \n",
    "    N_d1 = norm.cdf(d1)  # 標準常態分配之累積機率\n",
    "    N_d2 = norm.cdf(d2)\n",
    "    n_N_d1 = norm.cdf(-d1)  \n",
    "    n_N_d2 = norm.cdf(-d2)\n",
    "\n",
    "    #   Black-Scholes Model   #  \n",
    "    call = S0 * N_d1 - K * np.exp(-r*T) * N_d2  # 以BS Model 計算之歐式買權價格\n",
    "    put = K * np.exp(-r*T) * n_N_d2 - S0 * n_N_d1  # 以BS Model 計算之歐式賣權價格\n",
    "\n",
    "    # 判斷計算call or put\n",
    "    if option == 'call' :\n",
    "        option_price = call\n",
    "    elif option == 'put' : \n",
    "        option_price = put\n",
    "    else : \n",
    "        print( 'option只能輸入「call」或「put」' )\n",
    "        \n",
    "    return option_price"
   ]
  },
  {
   "cell_type": "markdown",
   "id": "ccfec7cc",
   "metadata": {},
   "source": [
    "### 3-1-1  驗證上方買權"
   ]
  },
  {
   "cell_type": "code",
   "execution_count": 19,
   "id": "dddbc19d",
   "metadata": {},
   "outputs": [
    {
     "name": "stdout",
     "output_type": "stream",
     "text": [
      "上出局call = 7.756338590436019\n",
      "上入局call = 2.692245513327412\n",
      "上出局 + 上入局call = 10.44858410376343\n",
      "使用Black-Sholes model計算的call = 10.450583572185565\n"
     ]
    }
   ],
   "source": [
    "a = eu_up_out_call( S0=100, K=100, r=0.05, T=1.0, n=1000, sigma=0.2, H=150 )\n",
    "b = eu_up_in_call( S0=100, K=100, r=0.05, T=1.0, n=1000, sigma=0.2, H=150)\n",
    "BS_call = BS_option( S0=100, K=100, r=0.05, T=1.0, sigma=0.2, option='call' )\n",
    "print(f'上出局call = {a}')\n",
    "print(f'上入局call = {b}')\n",
    "print(f'上出局 + 上入局call = {a+b}')\n",
    "print(f'使用Black-Sholes model計算的call = {BS_call}')"
   ]
  },
  {
   "cell_type": "markdown",
   "id": "21b4d00f",
   "metadata": {},
   "source": [
    "### 3-1-2  驗證上方賣權"
   ]
  },
  {
   "cell_type": "code",
   "execution_count": 20,
   "id": "4bda2301",
   "metadata": {},
   "outputs": [
    {
     "name": "stdout",
     "output_type": "stream",
     "text": [
      "上出局put = 5.364510164796433\n",
      "上入局put = 0.20701638903797262\n",
      "上出局 + 上入局put = 5.571526553834405\n",
      "使用Black-Sholes model計算的put = 5.573526022256971\n"
     ]
    }
   ],
   "source": [
    "a = eu_up_out_put( S0=100, K=100, r=0.05, T=1.0, n=1000, sigma=0.2, H=120 )\n",
    "b = eu_up_in_put( S0=100, K=100, r=0.05, T=1.0, n=1000, sigma=0.2, H=120)\n",
    "BS_put = BS_option( S0=100, K=100, r=0.05, T=1.0, sigma=0.2, option='put' )\n",
    "print(f'上出局put = {a}')\n",
    "print(f'上入局put = {b}')\n",
    "print(f'上出局 + 上入局put = {a+b}')\n",
    "print(f'使用Black-Sholes model計算的put = {BS_put}')"
   ]
  },
  {
   "cell_type": "markdown",
   "id": "f4a668f5",
   "metadata": {},
   "source": [
    "### 3-1-3  驗證下方買權"
   ]
  },
  {
   "cell_type": "code",
   "execution_count": 21,
   "id": "83820133",
   "metadata": {},
   "outputs": [
    {
     "name": "stdout",
     "output_type": "stream",
     "text": [
      "下出局call = 10.362167565447303\n",
      "下入局call = 0.08641653831612854\n",
      "下出局 + 下入局call = 10.448584103763432\n",
      "使用Black-Sholes model計算的call = 10.450583572185565\n"
     ]
    }
   ],
   "source": [
    "a = eu_down_out_call( S0=100, K=100, r=0.05, T=1.0, n=1000, sigma=0.2, H=80 )\n",
    "b = eu_down_in_call( S0=100, K=100, r=0.05, T=1.0, n=1000, sigma=0.2, H=80)\n",
    "BS_call = BS_option( S0=100, K=100, r=0.05, T=1.0, sigma=0.2, option='call' )\n",
    "print(f'下出局call = {a}')\n",
    "print(f'下入局call = {b}')\n",
    "print(f'下出局 + 下入局call = {a+b}')\n",
    "print(f'使用Black-Sholes model計算的call = {BS_call}')"
   ]
  },
  {
   "cell_type": "markdown",
   "id": "7b41845f",
   "metadata": {},
   "source": [
    "### 3-1-4  驗證下方賣權"
   ]
  },
  {
   "cell_type": "code",
   "execution_count": 22,
   "id": "65f8ab86",
   "metadata": {},
   "outputs": [
    {
     "name": "stdout",
     "output_type": "stream",
     "text": [
      "下出局put = 1.6999021664349305\n",
      "下入局put = 3.871624387399475\n",
      "下出局 + 下入局put = 5.571526553834405\n",
      "使用Black-Sholes model計算的put = 5.573526022256971\n"
     ]
    }
   ],
   "source": [
    "a = eu_down_out_put( S0=100, K=100, r=0.05, T=1.0, n=1000, sigma=0.2, H=80 )\n",
    "b = eu_down_in_put( S0=100, K=100, r=0.05, T=1.0, n=1000, sigma=0.2, H=80)\n",
    "BS_put = BS_option( S0=100, K=100, r=0.05, T=1.0, sigma=0.2, option='put' )\n",
    "print(f'下出局put = {a}')\n",
    "print(f'下入局put = {b}')\n",
    "print(f'下出局 + 下入局put = {a+b}')\n",
    "print(f'使用Black-Sholes model計算的put = {BS_put}')"
   ]
  },
  {
   "cell_type": "markdown",
   "id": "be2ff762",
   "metadata": {},
   "source": [
    "## 3-2 美式選擇權\n",
    "驗證方法 : 若計算正確，下方等式應成立(一般option用CRR model計算)\n",
    "1. 上出局call + 上入局call = 一般call\n",
    "2. 上出局put + 上入局put = 一般put\n",
    "3. 下出局call + 下入局call = 一般call\n",
    "4. 下出局put + 下入局put = 一般put"
   ]
  },
  {
   "cell_type": "markdown",
   "id": "756b5a77",
   "metadata": {},
   "source": [
    "### 3-2-1 上方買權"
   ]
  },
  {
   "cell_type": "code",
   "execution_count": 32,
   "id": "38208c0e",
   "metadata": {},
   "outputs": [
    {
     "name": "stdout",
     "output_type": "stream",
     "text": [
      "上出局call = 10.379289679383515\n",
      "上入局call = 2.692245513327412\n",
      "上出局 + 上入局call = 13.071535192710927\n",
      "使用CRR model計算的vanilla call = 10.448584103764665\n"
     ]
    }
   ],
   "source": [
    "a = us_up_out_call( S0=100, K=100, r=0.05, T=1.0, n=1000, sigma=0.2, H=150 )\n",
    "b = us_up_in_call( S0=100, K=100, r=0.05, T=1.0, n=1000, sigma=0.2, H=150)\n",
    "vanilla_call = crr_funcs.American_call( S0=100, K=100, r=0.05, T=1.0, n=1000, sigma=0.2 )  # 自製使用CRR計算陽春美式option的函數\n",
    "print(f'上出局call = {a}')\n",
    "print(f'上入局call = {b}')\n",
    "print(f'上出局 + 上入局call = {a+b}')\n",
    "print(f'使用CRR model計算的vanilla call = {vanilla_call}')"
   ]
  },
  {
   "cell_type": "markdown",
   "id": "c7070615",
   "metadata": {},
   "source": [
    "### 3-2-2 上方賣權"
   ]
  },
  {
   "cell_type": "code",
   "execution_count": 40,
   "id": "446ce849",
   "metadata": {},
   "outputs": [
    {
     "name": "stdout",
     "output_type": "stream",
     "text": [
      "上出局put = 5.874678698410909\n",
      "上入局put = 0.20701638903797262\n",
      "上出局 + 上入局put = 6.081695087448882\n",
      "使用CRR model計算的vanilla put = 6.089595282977915\n"
     ]
    }
   ],
   "source": [
    "a = us_up_out_put( S0=100, K=100, r=0.05, T=1.0, n=1000, sigma=0.2, H=120 )\n",
    "b = us_up_in_put( S0=100, K=100, r=0.05, T=1.0, n=1000, sigma=0.2, H=120)\n",
    "vanilla_put = crr_funcs.American_put( S0=100, K=100, r=0.05, T=1.0, n=1000, sigma=0.2 )\n",
    "print(f'上出局put = {a}')\n",
    "print(f'上入局put = {b}')\n",
    "print(f'上出局 + 上入局put = {a+b}')\n",
    "print(f'使用CRR model計算的vanilla put = {vanilla_put}')"
   ]
  },
  {
   "cell_type": "markdown",
   "id": "665c87f1",
   "metadata": {},
   "source": [
    "### 3-2-3 下方買權"
   ]
  },
  {
   "cell_type": "code",
   "execution_count": 25,
   "id": "7ecae9b6",
   "metadata": {},
   "outputs": [
    {
     "name": "stdout",
     "output_type": "stream",
     "text": [
      "下出局call = 10.447787684793541\n",
      "下入局call = 0.000796418969891472\n",
      "下出局 + 下入局call = 10.448584103763432\n",
      "使用CRR model計算的vanilla call = 10.448584103764665\n"
     ]
    }
   ],
   "source": [
    "a = us_down_out_call( S0=100, K=100, r=0.05, T=1.0, n=1000, sigma=0.2, H=70 )\n",
    "b = us_down_in_call( S0=100, K=100, r=0.05, T=1.0, n=1000, sigma=0.2, H=70)\n",
    "vanilla_call = crr_funcs.American_call( S0=100, K=100, r=0.05, T=1.0, n=1000, sigma=0.2 )\n",
    "print(f'下出局call = {a}')\n",
    "print(f'下入局call = {b}')\n",
    "print(f'下出局 + 下入局call = {a+b}')\n",
    "print(f'使用CRR model計算的vanilla call = {vanilla_call}')"
   ]
  },
  {
   "cell_type": "markdown",
   "id": "648e862d",
   "metadata": {},
   "source": [
    "### 3-2-4 下方賣權"
   ]
  },
  {
   "cell_type": "code",
   "execution_count": 34,
   "id": "a1e6d4d1",
   "metadata": {},
   "outputs": [
    {
     "name": "stdout",
     "output_type": "stream",
     "text": [
      "下出局put = 6.0895952829784905\n",
      "下入局put = 1.5787351877057434\n",
      "下出局 + 下入局put = 7.668330470684234\n",
      "使用CRR model計算的vanilla put = 6.089595282977915\n"
     ]
    }
   ],
   "source": [
    "a = us_down_out_put( S0=100, K=100, r=0.05, T=1.0, n=1000, sigma=0.2, H=70 )\n",
    "b = us_down_in_put( S0=100, K=100, r=0.05, T=1.0, n=1000, sigma=0.2, H=70)\n",
    "vanilla_put = crr_funcs.American_put( S0=100, K=100, r=0.05, T=1.0, n=1000, sigma=0.2 )\n",
    "print(f'下出局put = {a}')\n",
    "print(f'下入局put = {b}')\n",
    "print(f'下出局 + 下入局put = {a+b}')\n",
    "print(f'使用CRR model計算的vanilla put = {vanilla_put}')"
   ]
  },
  {
   "cell_type": "markdown",
   "id": "41d59f62",
   "metadata": {},
   "source": [
    "## 3-4 其他驗證方式\n",
    "- 歐式call = 美式call\n",
    "- 歐式put <= 美式put"
   ]
  },
  {
   "cell_type": "markdown",
   "id": "a59db8f0",
   "metadata": {},
   "source": [
    "### 3-4-1 買權"
   ]
  },
  {
   "cell_type": "code",
   "execution_count": 27,
   "id": "fdef7f7b",
   "metadata": {},
   "outputs": [
    {
     "name": "stdout",
     "output_type": "stream",
     "text": [
      "歐美式上入局買權差異 = 0.0\n",
      "歐美式上出局買權差異 = -6.157078806322438\n",
      "歐美式下入局買權差異 = 0.0\n",
      "歐美式下出局買權差異 = 0.0\n"
     ]
    }
   ],
   "source": [
    "a = eu_up_in_call( S0=100, K=100, r=0.05, T=1.0, n=100, sigma=0.2, H=130)\n",
    "b = us_up_in_call( S0=100, K=100, r=0.05, T=1.0, n=100, sigma=0.2, H=130)\n",
    "c = eu_up_out_call( S0=100, K=100, r=0.05, T=1.0, n=100, sigma=0.2, H=130)\n",
    "d = us_up_out_call( S0=100, K=100, r=0.05, T=1.0, n=100, sigma=0.2, H=130)\n",
    "e = eu_down_in_call( S0=100, K=100, r=0.05, T=1.0, n=100, sigma=0.2, H=70)\n",
    "f = us_down_in_call( S0=100, K=100, r=0.05, T=1.0, n=100, sigma=0.2, H=70)\n",
    "g = eu_down_out_call( S0=100, K=100, r=0.05, T=1.0, n=100, sigma=0.2, H=70)\n",
    "h = us_down_out_call( S0=100, K=100, r=0.05, T=1.0, n=100, sigma=0.2, H=70)\n",
    "print(f'歐美式上入局買權差異 = {a-b}')  # 歐 - 美\n",
    "print(f'歐美式上出局買權差異 = {c-d}')\n",
    "print(f'歐美式下入局買權差異 = {e-f}')\n",
    "print(f'歐美式下出局買權差異 = {g-h}')"
   ]
  },
  {
   "cell_type": "markdown",
   "id": "d5af8e34",
   "metadata": {},
   "source": [
    "### 3-4-2 賣權"
   ]
  },
  {
   "cell_type": "code",
   "execution_count": 67,
   "id": "45ff448d",
   "metadata": {},
   "outputs": [
    {
     "name": "stdout",
     "output_type": "stream",
     "text": [
      "歐美式上入局賣權差異 = 0.0\n",
      "歐美式上出局賣權差異 = -0.5233350973034065\n",
      "歐美式下入局賣權差異 = -0.32287047298211746\n",
      "歐美式下出局賣權差異 = -4.198639775467038\n"
     ]
    }
   ],
   "source": [
    "a = eu_up_in_put( S0=100, K=100, r=0.05, T=1.0, n=100, sigma=0.2, H=120)\n",
    "b = us_up_in_put( S0=100, K=100, r=0.05, T=1.0, n=100, sigma=0.2, H=120)\n",
    "c = eu_up_out_put( S0=100, K=100, r=0.05, T=1.0, n=100, sigma=0.2, H=120)\n",
    "d = us_up_out_put( S0=100, K=100, r=0.05, T=1.0, n=100, sigma=0.2, H=120)\n",
    "e = eu_down_in_put( S0=100, K=100, r=0.05, T=1.0, n=100, sigma=0.2, H=80)\n",
    "f = us_down_in_put( S0=100, K=100, r=0.05, T=1.0, n=100, sigma=0.2, H=80)\n",
    "g = eu_down_out_put( S0=100, K=100, r=0.05, T=1.0, n=100, sigma=0.2, H=80)\n",
    "h = us_down_out_put( S0=100, K=100, r=0.05, T=1.0, n=100, sigma=0.2, H=80)\n",
    "print(f'歐美式上入局賣權差異 = {a-b}')  # 歐 - 美\n",
    "print(f'歐美式上出局賣權差異 = {c-d}')\n",
    "print(f'歐美式下入局賣權差異 = {e-f}')\n",
    "print(f'歐美式下出局賣權差異 = {g-h}')"
   ]
  },
  {
   "cell_type": "markdown",
   "id": "0a735217",
   "metadata": {},
   "source": [
    "# 第四部分 CRR收斂情況"
   ]
  },
  {
   "cell_type": "code",
   "execution_count": 59,
   "id": "591e31b9",
   "metadata": {},
   "outputs": [
    {
     "data": {
      "image/png": "[encoded data removed]",
      "text/plain": [
       "<Figure size 640x480 with 1 Axes>"
      ]
     },
     "metadata": {},
     "output_type": "display_data"
    }
   ],
   "source": [
    "def plot_crr_converge( S0:float, K:float, r:float, T:float, n:int, sigma:float, H:float, option:str) :\n",
    "    '''\n",
    "    功能 : 畫CRR收斂圖\n",
    "    輸入 : \n",
    "        1. S0 : 期初股價，type=float\n",
    "        2. K : 履約價，type=float\n",
    "        3. r : 無風險利率，type=float\n",
    "        4. T : 到期期限(單位:年)，type=float\n",
    "        5. n : 最大期數，type=int\n",
    "        6. sigma : 波動度，type=float\n",
    "        7. H : 障礙價格，type=float\n",
    "        8. option : 選擇欲計算的選擇權，type=str\n",
    "            只能輸入 : eu_up_in_call -> 歐式上入局買權，us_up_in_call -> 美式上入局買權\n",
    "                      eu_up_in_put -> 歐式上入局賣權，us_up_in_put -> 美式上入局賣權\n",
    "                      eu_up_out_call -> 歐式上出局買權，us_up_out_call -> 美式上出局買權\n",
    "                      eu_up_out_put -> 歐式上出局賣權，us_up_out_put -> 美式上出局賣權\n",
    "                      eu_down_in_call -> 歐式下入局買權，us_down_in_call -> 美式下入局買權\n",
    "                      eu_down_in_put -> 歐式下入局賣權，us_down_in_put -> 美式下入局賣權\n",
    "                      eu_down_out_call -> 歐式下出局買權，us_down_out_call -> 美式下出局買權\n",
    "                      eu_down_out_put -> 歐式下出局賣權，us_down_out_put -> 美式下出局賣權\n",
    "    '''\n",
    "    # 計算option在不同n下的價格\n",
    "    x_list = []\n",
    "    y_list = []\n",
    "    for i in range(1, n+1) :\n",
    "        option_price = option(S0, K, r, T, i, sigma, H)\n",
    "        x_list.append(i)\n",
    "        y_list.append(option_price)\n",
    "    \n",
    "    # 畫圖\n",
    "    plt.plot(x_list, y_list, label=option.__name__)\n",
    "    plt.title('CRR Converge')\n",
    "    plt.xlabel('number of period')\n",
    "    plt.ylabel('option price')\n",
    "    plt.legend(loc=0)\n",
    "    \n",
    "plot_crr_converge( S0=100, K=100, r=0.05, T=1.0, n=100, sigma=0.2, H=120, option=us_up_in_put)"
   ]
  },
  {
   "cell_type": "markdown",
   "id": "acb0cde7",
   "metadata": {},
   "source": [
    "### 鋸齒狀收斂\n",
    "- 原因 : 使用二元樹(CRR)計算障礙價格時，有效障礙價格不一定能剛好切在樹的節點上\n",
    "- 解決方法 : 改使用三元樹，相比二元樹，三元樹多一個自由度可以去控制樹擴張的大小，使每一期都有一個節點剛好落在有效障礙價格上"
   ]
  }
 ],
 "metadata": {
  "kernelspec": {
   "display_name": "Python 3 (ipykernel)",
   "language": "python",
   "name": "python3"
  },
  "language_info": {
   "codemirror_mode": {
    "name": "ipython",
    "version": 3
   },
   "file_extension": ".py",
   "mimetype": "text/x-python",
   "name": "python",
   "nbconvert_exporter": "python",
   "pygments_lexer": "ipython3",
   "version": "3.10.11"
  }
 },
 "nbformat": 4,
 "nbformat_minor": 5
}
