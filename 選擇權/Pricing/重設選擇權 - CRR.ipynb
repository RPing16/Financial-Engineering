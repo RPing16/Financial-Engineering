{
 "cells": [
  {
   "cell_type": "markdown",
   "id": "c62eed22",
   "metadata": {},
   "source": [
    "# 主旨\n",
    "使用二元樹CRR計算歐式&美式重設選擇權\n",
    "1. 歐式\n",
    "2. 美式"
   ]
  },
  {
   "cell_type": "markdown",
   "id": "edc900d7",
   "metadata": {},
   "source": [
    "# 載入套件"
   ]
  },
  {
   "cell_type": "code",
   "execution_count": 1,
   "id": "45e35155",
   "metadata": {},
   "outputs": [],
   "source": [
    "import numpy as np \n",
    "from scipy.stats import norm"
   ]
  },
  {
   "cell_type": "markdown",
   "id": "bda832db",
   "metadata": {},
   "source": [
    "# 第一部份 歐式重設選擇權"
   ]
  },
  {
   "cell_type": "markdown",
   "id": "f2e13295",
   "metadata": {},
   "source": [
    "## 1-1 歐式買權"
   ]
  },
  {
   "cell_type": "code",
   "execution_count": 2,
   "id": "c6f9d8f8",
   "metadata": {},
   "outputs": [
    {
     "data": {
      "text/plain": [
       "12.02302393894727"
      ]
     },
     "execution_count": 2,
     "metadata": {},
     "output_type": "execute_result"
    }
   ],
   "source": [
    "def eu_reset_call_price( S0:float, K:float, H:float, B:float, r:float, T:float, n:int, sigma:float ) -> np.float64 :\n",
    "    '''\n",
    "    功能 : 計算歐式重設買權價格\n",
    "    輸入 : \n",
    "        1. S0 : 期初股價，type=float\n",
    "        2. K : 原先的履約價，type=float\n",
    "        3. H : 重設界限，H<S0 & H<K，type=float\n",
    "        4. B : 重設後的履約價，B<S0 & B<K，type=float\n",
    "        5. r : 無風險利率，type=float\n",
    "        6. T : 到期期限(單位:年)，type=float\n",
    "        7. n : 期數，type=int\n",
    "        8. sigma : 波動度，type=float\n",
    "    輸出 :\n",
    "        call_price : 歐式重設買權價格，type=np.float64\n",
    "    '''\n",
    "    # 設定參數\n",
    "    dt = T / n  # 每一期間隔時間\n",
    "    u = np.exp( sigma * np.sqrt(dt) )  # 漲幅\n",
    "    d = 1 / u  # 跌幅\n",
    "    prob = ( np.exp(r*dt) - d ) / (u - d)  # 股價上漲的風險中立機率\n",
    "    discount_factor = np.exp(-r*dt)  # 折現因子\n",
    "    \n",
    "    # 計算買權期末價格\n",
    "    ST = S0 * u**n  # 期末股價(一直上漲的情境)\n",
    "    option_value = [ [0]*2 for _ in range(n+1) ]  # 建構(n+1)*2的list，期末(t=n)共有t+1=n+1個情境(價格)\n",
    "                                                  # option_value[i][0] = 存放未曾觸碰到重設界線的選擇權價值(履約價=K)\n",
    "                                                  # option_value[i][1] = 存放曾經觸碰到重設界線的選擇權價值(履約價=B)\n",
    "    for i in range(n+1) :  # i控制情境(股價下跌次數)\n",
    "                           # 計算方式 : 從下跌次數i=0的ST開始計算(一直上漲的情境)，一直計算到下跌次數i=n的ST(一直下跌的情境)\n",
    "        option_value[i][0] = max( ST - K, 0 )  # 未曾觸碰到重設界線的選擇權價值\n",
    "        option_value[i][1] = max( ST - B, 0 )  # 曾經觸碰到重設界線的選擇權價值\n",
    "        ST *= d * d  # 計算下個迴圈的ST(ST=第n期上漲股價，ST*d=第n-1期股價，ST*d*d=第n期下跌股價)\n",
    "        \n",
    "    # 向前歸納計算買權價格\n",
    "    # 計算完第t-1期的買權價值後，存放在第t期的位置(覆蓋原本的value)\n",
    "    for t in range(n-1, -1, -1) :  # 從第n-1期向前歸納至第0期，每次往前1期\n",
    "        St = S0 * u**t  # 計算第t期下跌次數i=0的股價(一直上漲的情境)\n",
    "        for i in range(t+1) : # i控制股價下跌次數(第t期共有t+1個情境)\n",
    "            if St <= H :  # Case1 : 當期股價<=重設界線\n",
    "                option_value[i][0] = 0  # Case1下useless，填任意數值都可\n",
    "                option_value[i][1] = discount_factor * ( option_value[i][1]*prob + option_value[i+1][1]*(1-prob) )\n",
    "            elif  St > H and St*d <= H :  # Case2 : 當前股價>重設股價&下一期下跌股價<=重設股價 \n",
    "                option_value[i][0] = discount_factor * ( option_value[i][0]*prob + option_value[i+1][1]*(1-prob) )\n",
    "                option_value[i][1] = discount_factor * ( option_value[i][1]*prob + option_value[i+1][1]*(1-prob) )\n",
    "            else :  # Case3 : 下一期下跌股價>重設股價\n",
    "                option_value[i][0] = discount_factor * ( option_value[i][0]*prob + option_value[i+1][0]*(1-prob) )\n",
    "                option_value[i][1] = discount_factor * ( option_value[i][1]*prob + option_value[i+1][1]*(1-prob) )\n",
    "            St *= d * d\n",
    "    call_price = option_value[0][0]\n",
    "    return call_price\n",
    "\n",
    "eu_reset_call_price( S0=100, K=100, H=80, B=80, r=0.05, T=1.0, n=3, sigma=0.2 )"
   ]
  },
  {
   "cell_type": "markdown",
   "id": "11868006",
   "metadata": {},
   "source": [
    "## 1-2 歐式賣權"
   ]
  },
  {
   "cell_type": "code",
   "execution_count": 3,
   "id": "b953d8ee",
   "metadata": {},
   "outputs": [
    {
     "data": {
      "text/plain": [
       "7.243429736969338"
      ]
     },
     "execution_count": 3,
     "metadata": {},
     "output_type": "execute_result"
    }
   ],
   "source": [
    "def eu_reset_put_price( S0:float, K:float, H:float, B:float, r:float, T:float, n:int, sigma:float ) -> np.float64 :\n",
    "    '''\n",
    "    功能 : 計算歐式重設賣權價格\n",
    "    輸入 : \n",
    "        1. S0 : 期初股價，type=float\n",
    "        2. K : 原先的履約價，type=float\n",
    "        3. H : 重設界限，H>S0 & H>K，type=float\n",
    "        4. B : 重設後的履約價，B>S0 & B>K，type=float\n",
    "        5. r : 無風險利率，type=float\n",
    "        6. T : 到期期限(單位:年)，type=float\n",
    "        7. n : 期數，type=int\n",
    "        8. sigma : 波動度，type=float\n",
    "    輸出 :\n",
    "        put_price : 歐式重設賣權價格，type=np.float64\n",
    "    '''\n",
    "    # 設定參數\n",
    "    dt = T / n  # 每一期間隔時間\n",
    "    u = np.exp( sigma * np.sqrt(dt) )  # 漲幅\n",
    "    d = 1 / u  # 跌幅\n",
    "    prob = ( np.exp(r*dt) - d ) / (u - d)  # 股價上漲的風險中立機率\n",
    "    discount_factor = np.exp(-r*dt)  # 折現因子\n",
    "    \n",
    "    # 計算賣權期末價格\n",
    "    ST = S0 * u**n  # 期末股價(一直上漲的情境)\n",
    "    option_value = [ [0]*2 for _ in range(n+1) ]  # 建構(n+1)*2的list，期末(t=n)共有t+1=n+1個情境(價格)\n",
    "                                                  # option_value[i][0] = 存放未曾觸碰到重設界線的選擇權價值(履約價=K)\n",
    "                                                  # option_value[i][1] = 存放曾經觸碰到重設界線的選擇權價值(履約價=B)\n",
    "    for i in range(n+1) :  # i控制情境(股價下跌次數)\n",
    "                           # 計算方式 : 從下跌次數i=0的ST開始計算(一直上漲的情境)，一直計算到下跌次數i=n的ST(一直下跌的情境)\n",
    "        option_value[i][0] = max( K - ST, 0 )  # 未曾觸碰到重設界線的選擇權價值\n",
    "        option_value[i][1] = max( B - ST, 0 )  # 曾經觸碰到重設界線的選擇權價值\n",
    "        ST *= d * d  # 計算下個迴圈的ST(ST=第n期上漲股價，ST*d=第n-1期股價，ST*d*d=第n期下跌股價)\n",
    "        \n",
    "    # 向前歸納計算賣權價格\n",
    "    # 計算完第t-1期的賣權價值後，存放在第t期的位置(覆蓋原本的value)\n",
    "    for t in range(n-1, -1, -1) :  # 從第n-1期向前歸納至第0期，每次往前1期\n",
    "        St = S0 * u**t  # 計算第t期下跌次數i=0的股價(一直上漲的情境)\n",
    "        for i in range(t+1) : # i控制股價下跌次數(第t期共有t+1個情境)\n",
    "            if St >= H :  # Case1 : 當期股價>=重設界線\n",
    "                option_value[i][0] = 0  # Case1下useless，填任意數值都可\n",
    "                option_value[i][1] = discount_factor * ( option_value[i][1]*prob + option_value[i+1][1]*(1-prob) )\n",
    "            elif  St < H and St*u >= H :  # Case2 : 當前股價<重設股價&下一期上漲股價>=重設股價 \n",
    "                option_value[i][0] = discount_factor * ( option_value[i][1]*prob + option_value[i+1][0]*(1-prob) )\n",
    "                option_value[i][1] = discount_factor * ( option_value[i][1]*prob + option_value[i+1][1]*(1-prob) )\n",
    "            else :  # Case3 : 當前&下一期上漲股價<重設股價\n",
    "                option_value[i][0] = discount_factor * ( option_value[i][0]*prob + option_value[i+1][0]*(1-prob) )\n",
    "                option_value[i][1] = discount_factor * ( option_value[i][1]*prob + option_value[i+1][1]*(1-prob) )\n",
    "            St *= d * d\n",
    "    put_price = option_value[0][0]\n",
    "    return put_price\n",
    "\n",
    "eu_reset_put_price( S0=100, K=100, H=110, B=110, r=0.05, T=1.0, n=3, sigma=0.2 )"
   ]
  },
  {
   "cell_type": "markdown",
   "id": "863bf898",
   "metadata": {},
   "source": [
    "# 第二部份 美式重設選擇權"
   ]
  },
  {
   "cell_type": "markdown",
   "id": "2dae8a07",
   "metadata": {},
   "source": [
    "## 2-1 美式買權"
   ]
  },
  {
   "cell_type": "code",
   "execution_count": 4,
   "id": "124c6f20",
   "metadata": {},
   "outputs": [
    {
     "data": {
      "text/plain": [
       "12.02302393894727"
      ]
     },
     "execution_count": 4,
     "metadata": {},
     "output_type": "execute_result"
    }
   ],
   "source": [
    "def us_reset_call_price( S0:float, K:float, H:float, B:float, r:float, T:float, n:int, sigma:float ) -> np.float64 :\n",
    "    '''\n",
    "    功能 : 計算美式重設買權價格\n",
    "    輸入 : \n",
    "        1. S0 : 期初股價，type=float\n",
    "        2. K : 原先的履約價，type=float\n",
    "        3. H : 重設界限，H<S0 & H<K，type=float\n",
    "        4. B : 重設後的履約價，B<S0 & B<K，type=float\n",
    "        5. r : 無風險利率，type=float\n",
    "        6. T : 到期期限(單位:年)，type=float\n",
    "        7. n : 期數，type=int\n",
    "        8. sigma : 波動度，type=float\n",
    "    輸出 :\n",
    "        call_price : 美式重設買權價格，type=np.float64\n",
    "    '''\n",
    "    # 設定參數\n",
    "    dt = T / n  # 每一期間隔時間\n",
    "    u = np.exp( sigma * np.sqrt(dt) )  # 漲幅\n",
    "    d = 1 / u  # 跌幅\n",
    "    prob = ( np.exp(r*dt) - d ) / (u - d)  # 股價上漲的風險中立機率\n",
    "    discount_factor = np.exp(-r*dt)  # 折現因子\n",
    "    \n",
    "    # 計算買權期末價格\n",
    "    ST = S0 * u**n  # 期末股價(一直上漲的情境)\n",
    "    option_value = [ [0]*2 for _ in range(n+1) ]  # 建構(n+1)*2的list，期末(t=n)共有t+1=n+1個情境(價格)\n",
    "                                                  # option_value[i][0] = 存放未曾觸碰到重設界線的選擇權價值(履約價=K)\n",
    "                                                  # option_value[i][1] = 存放曾經觸碰到重設界線的選擇權價值(履約價=B)\n",
    "    for i in range(n+1) :  # i控制情境(股價下跌次數)\n",
    "                           # 計算方式 : 從下跌次數i=0的ST開始計算(一直上漲的情境)，一直計算到下跌次數i=n的ST(一直下跌的情境)\n",
    "        option_value[i][0] = max( ST - K, 0 )  # 未曾觸碰到重設界線的選擇權價值\n",
    "        option_value[i][1] = max( ST - B, 0 )  # 曾經觸碰到重設界線的選擇權價值\n",
    "        ST *= d * d  # 計算下個迴圈的ST(ST=第n期上漲股價，ST*d=第n-1期股價，ST*d*d=第n期下跌股價)\n",
    "        \n",
    "    # 向前歸納計算買權價格\n",
    "    # 計算完第t-1期的買權價值後，存放在第t期的位置(覆蓋原本的value)\n",
    "    exercise_value = [ [0]*2 for _ in range(n+1) ]  # 建構(n+1)*2的list，期末(t=n)共有t+1=n+1個情境(價格)\n",
    "                                                    # exercise_value[i][0] = 存放未曾觸碰到重設界線的履約價值(履約價=K)\n",
    "                                                    # exercise_value[i][1] = 存放曾經觸碰到重設界線的履約價值(履約價=B)\n",
    "    for t in range(n-1, -1, -1) :  # 從第n-1期向前歸納至第0期，每次往前1期\n",
    "        St = S0 * u**t  # 計算第t期下跌次數i=0的股價(一直上漲的情境)\n",
    "        for i in range(t+1) : # i控制股價下跌次數(第t期共有t+1個情境)\n",
    "            if St <= H :  # Case1 : 當期股價<=重設界線\n",
    "                option_value[i][0] = 0  \n",
    "                option_value[i][1] = discount_factor * ( option_value[i][1]*prob + option_value[i+1][1]*(1-prob) )\n",
    "                exercise_value[i][0] = 0  \n",
    "                exercise_value[i][1] = St - B\n",
    "                option_value[i][0] = 0  \n",
    "                option_value[i][1] = max( option_value[i][1], exercise_value[i][1] )\n",
    "            elif  St > H and St*d <= H :  # Case2 : 當前股價>重設股價&下一期下跌股價<=重設股價 \n",
    "                option_value[i][0] = discount_factor * ( option_value[i][0]*prob + option_value[i+1][1]*(1-prob) )\n",
    "                option_value[i][1] = discount_factor * ( option_value[i][1]*prob + option_value[i+1][1]*(1-prob) )\n",
    "                exercise_value[i][0] = St - K\n",
    "                exercise_value[i][1] = St - B\n",
    "                option_value[i][0] = max( option_value[i][0], exercise_value[i][0] )\n",
    "                option_value[i][1] = max( option_value[i][1], exercise_value[i][1] )\n",
    "            else :  # Case3 : 下一期下跌股價>重設股價\n",
    "                option_value[i][0] = discount_factor * ( option_value[i][0]*prob + option_value[i+1][0]*(1-prob) )\n",
    "                option_value[i][1] = discount_factor * ( option_value[i][1]*prob + option_value[i+1][1]*(1-prob) )\n",
    "                exercise_value[i][0] = St - K\n",
    "                exercise_value[i][1] = St - B\n",
    "                option_value[i][0] = max( option_value[i][0], exercise_value[i][0] )\n",
    "                option_value[i][1] = max( option_value[i][1], exercise_value[i][1] )\n",
    "            St *= d * d\n",
    "    call_price = option_value[0][0]\n",
    "    return call_price\n",
    "\n",
    "us_reset_call_price( S0=100, K=100, H=80, B=80, r=0.05, T=1.0, n=3, sigma=0.2 )"
   ]
  },
  {
   "cell_type": "markdown",
   "id": "6038fc06",
   "metadata": {},
   "source": [
    "## 2-2 美式買權"
   ]
  },
  {
   "cell_type": "code",
   "execution_count": 5,
   "id": "65bb6dec",
   "metadata": {},
   "outputs": [
    {
     "data": {
      "text/plain": [
       "9.379835004059139"
      ]
     },
     "execution_count": 5,
     "metadata": {},
     "output_type": "execute_result"
    }
   ],
   "source": [
    "def us_reset_put_price( S0:float, K:float, H:float, B:float, r:float, T:float, n:int, sigma:float ) -> np.float64 :\n",
    "    '''\n",
    "    功能 : 計算美式重設賣權價格\n",
    "    輸入 : \n",
    "        1. S0 : 期初股價，type=float\n",
    "        2. K : 原先的履約價，type=float\n",
    "        3. H : 重設界限，H<S0 & H<K，type=float\n",
    "        4. B : 重設後的履約價，B<S0 & B<K，type=float\n",
    "        5. r : 無風險利率，type=float\n",
    "        6. T : 到期期限(單位:年)，type=float\n",
    "        7. n : 期數，type=int\n",
    "        8. sigma : 波動度，type=float\n",
    "    輸出 :\n",
    "        put_price : 美式重設賣權價格，type=np.float64\n",
    "    '''\n",
    "    # 設定參數\n",
    "    dt = T / n  # 每一期間隔時間\n",
    "    u = np.exp( sigma * np.sqrt(dt) )  # 漲幅\n",
    "    d = 1 / u  # 跌幅\n",
    "    prob = ( np.exp(r*dt) - d ) / (u - d)  # 股價上漲的風險中立機率\n",
    "    discount_factor = np.exp(-r*dt)  # 折現因子\n",
    "    \n",
    "    # 計算賣權期末價格\n",
    "    ST = S0 * u**n  # 期末股價(一直上漲的情境)\n",
    "    option_value = [ [0]*2 for _ in range(n+1) ]  # 建構(n+1)*2的list，期末(t=n)共有t+1=n+1個情境(價格)\n",
    "                                                  # option_value[i][0] = 存放未曾觸碰到重設界線的選擇權價值(履約價=K)\n",
    "                                                  # option_value[i][1] = 存放曾經觸碰到重設界線的選擇權價值(履約價=B)\n",
    "    for i in range(n+1) :  # i控制情境(股價下跌次數)\n",
    "                           # 計算方式 : 從下跌次數i=0的ST開始計算(一直上漲的情境)，一直計算到下跌次數i=n的ST(一直下跌的情境)\n",
    "        option_value[i][0] = max( K - ST, 0 )  # 未曾觸碰到重設界線的選擇權價值\n",
    "        option_value[i][1] = max( B - ST, 0 )  # 曾經觸碰到重設界線的選擇權價值\n",
    "        ST *= d * d  # 計算下個迴圈的ST(ST=第n期上漲股價，ST*d=第n-1期股價，ST*d*d=第n期下跌股價)\n",
    "        \n",
    "    # 向前歸納計算賣權價格\n",
    "    # 計算完第t-1期的賣權價值後，存放在第t期的位置(覆蓋原本的value)\n",
    "    exercise_value = [ [0]*2 for _ in range(n+1) ]  # 建構(n+1)*2的list，期末(t=n)共有t+1=n+1個情境(價格)\n",
    "                                                    # exercise_value[i][0] = 存放未曾觸碰到重設界線的履約價值(履約價=K)\n",
    "                                                    # exercise_value[i][1] = 存放曾經觸碰到重設界線的履約價值(履約價=B)\n",
    "    for t in range(n-1, -1, -1) :  # 從第n-1期向前歸納至第0期，每次往前1期\n",
    "        St = S0 * u**t  # 計算第t期下跌次數i=0的股價(一直上漲的情境)\n",
    "        for i in range(t+1) : # i控制股價下跌次數(第t期共有t+1個情境)\n",
    "            if St >= H :  # Case1 : 當期股價>=重設界線\n",
    "                option_value[i][0] = 0  \n",
    "                option_value[i][1] = discount_factor * ( option_value[i][1]*prob + option_value[i+1][1]*(1-prob) )\n",
    "                exercise_value[i][0] = 0  \n",
    "                exercise_value[i][1] = B - St\n",
    "                option_value[i][0] = 0  \n",
    "                option_value[i][1] = max( option_value[i][1], exercise_value[i][1] )\n",
    "            elif  St < H and St*u >= H :  # Case2 : 當前股價<重設股價&下一期上漲股價>=重設股價 \n",
    "                option_value[i][0] = discount_factor * ( option_value[i][0]*prob + option_value[i+1][1]*(1-prob) )\n",
    "                option_value[i][1] = discount_factor * ( option_value[i][1]*prob + option_value[i+1][1]*(1-prob) )\n",
    "                exercise_value[i][0] = K - St\n",
    "                exercise_value[i][1] = B - St\n",
    "                option_value[i][0] = max( option_value[i][0], exercise_value[i][0] )\n",
    "                option_value[i][1] = max( option_value[i][1], exercise_value[i][1] )\n",
    "            else :  # Case3 : 當前&下一期上漲股價<重設股價\n",
    "                option_value[i][0] = discount_factor * ( option_value[i][0]*prob + option_value[i+1][0]*(1-prob) )\n",
    "                option_value[i][1] = discount_factor * ( option_value[i][1]*prob + option_value[i+1][1]*(1-prob) )\n",
    "                exercise_value[i][0] = K - St\n",
    "                exercise_value[i][1] = B - St\n",
    "                option_value[i][0] = max( option_value[i][0], exercise_value[i][0] )\n",
    "                option_value[i][1] = max( option_value[i][1], exercise_value[i][1] )\n",
    "            St *= d * d\n",
    "    put_price = option_value[0][0]\n",
    "    return put_price\n",
    "\n",
    "us_reset_put_price( S0=100, K=100, H=110, B=110, r=0.05, T=1.0, n=3, sigma=0.2 )"
   ]
  }
 ],
 "metadata": {
  "kernelspec": {
   "display_name": "Python 3 (ipykernel)",
   "language": "python",
   "name": "python3"
  },
  "language_info": {
   "codemirror_mode": {
    "name": "ipython",
    "version": 3
   },
   "file_extension": ".py",
   "mimetype": "text/x-python",
   "name": "python",
   "nbconvert_exporter": "python",
   "pygments_lexer": "ipython3",
   "version": "3.10.11"
  }
 },
 "nbformat": 4,
 "nbformat_minor": 5
}
